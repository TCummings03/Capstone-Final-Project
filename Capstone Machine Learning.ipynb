{
 "cells": [
  {
   "cell_type": "code",
   "execution_count": 54,
   "metadata": {},
   "outputs": [],
   "source": [
    "import pandas as pd\n",
    "import numpy as np\n",
    "import matplotlib.pyplot as plt\n",
    "import seaborn as sns\n",
    "from tqdm import tqdm\n",
    "import time\n",
    "import shapefile\n",
    "import geopy\n",
    "import geocoder\n",
    "import reverse_geocoder as rg\n",
    "from pygeocoder import Geocoder\n",
    "import shapely\n",
    "import pylab\n",
    "import scipy.stats as stats\n",
    "%matplotlib inline"
   ]
  },
  {
   "cell_type": "code",
   "execution_count": 55,
   "metadata": {},
   "outputs": [],
   "source": [
    "#Load the dataframe\n",
    "df = pd.read_excel('/Users/TCummings03/Desktop/Rent_Hop_DC2.xlsx')"
   ]
  },
  {
   "cell_type": "code",
   "execution_count": 56,
   "metadata": {},
   "outputs": [
    {
     "data": {
      "text/html": [
       "<div>\n",
       "<style>\n",
       "    .dataframe thead tr:only-child th {\n",
       "        text-align: right;\n",
       "    }\n",
       "\n",
       "    .dataframe thead th {\n",
       "        text-align: left;\n",
       "    }\n",
       "\n",
       "    .dataframe tbody tr th {\n",
       "        vertical-align: top;\n",
       "    }\n",
       "</style>\n",
       "<table border=\"1\" class=\"dataframe\">\n",
       "  <thead>\n",
       "    <tr style=\"text-align: right;\">\n",
       "      <th></th>\n",
       "      <th>listlinks</th>\n",
       "      <th>title_address</th>\n",
       "      <th>lats</th>\n",
       "      <th>longs</th>\n",
       "      <th>ids</th>\n",
       "      <th>sqft</th>\n",
       "      <th>rent_price</th>\n",
       "      <th>bedrooms</th>\n",
       "      <th>bathrooms</th>\n",
       "      <th>amenities</th>\n",
       "      <th>...</th>\n",
       "      <th>Park-like setting</th>\n",
       "      <th>Military housing</th>\n",
       "      <th>Smoke Free Community</th>\n",
       "      <th>Eat-In Kitchens</th>\n",
       "      <th>Pet rent of $50</th>\n",
       "      <th>Lovely Rock Creek Park Views</th>\n",
       "      <th>24-Hour Front Desk Attendant</th>\n",
       "      <th>Vaulted Ceilings</th>\n",
       "      <th>Generous closets space</th>\n",
       "      <th>Handrails</th>\n",
       "    </tr>\n",
       "  </thead>\n",
       "  <tbody>\n",
       "    <tr>\n",
       "      <th>0</th>\n",
       "      <td>https://www.renthop.com/apartments/2400-pennsy...</td>\n",
       "      <td>2400 Pennsylvania Ave Nw</td>\n",
       "      <td>38.9029</td>\n",
       "      <td>-77.0518</td>\n",
       "      <td>17137566</td>\n",
       "      <td>NaN</td>\n",
       "      <td>1630</td>\n",
       "      <td>0.5</td>\n",
       "      <td>1.0</td>\n",
       "      <td>[]</td>\n",
       "      <td>...</td>\n",
       "      <td>0</td>\n",
       "      <td>0</td>\n",
       "      <td>0</td>\n",
       "      <td>0</td>\n",
       "      <td>0</td>\n",
       "      <td>0</td>\n",
       "      <td>0</td>\n",
       "      <td>0</td>\n",
       "      <td>0</td>\n",
       "      <td>0</td>\n",
       "    </tr>\n",
       "    <tr>\n",
       "      <th>1</th>\n",
       "      <td>https://www.renthop.com/apartments/4905-southl...</td>\n",
       "      <td>4905 Southland Ave</td>\n",
       "      <td>38.8180</td>\n",
       "      <td>-77.1479</td>\n",
       "      <td>2007984</td>\n",
       "      <td>1160.0</td>\n",
       "      <td>1975</td>\n",
       "      <td>3.0</td>\n",
       "      <td>2.0</td>\n",
       "      <td>['Featured', 'Cats Allowed', 'Dogs Allowed', '...</td>\n",
       "      <td>...</td>\n",
       "      <td>0</td>\n",
       "      <td>0</td>\n",
       "      <td>0</td>\n",
       "      <td>0</td>\n",
       "      <td>0</td>\n",
       "      <td>0</td>\n",
       "      <td>0</td>\n",
       "      <td>0</td>\n",
       "      <td>0</td>\n",
       "      <td>0</td>\n",
       "    </tr>\n",
       "    <tr>\n",
       "      <th>2</th>\n",
       "      <td>https://www.renthop.com/apartments/9704-clark-...</td>\n",
       "      <td>9704 Clark Pl</td>\n",
       "      <td>38.7434</td>\n",
       "      <td>-77.4669</td>\n",
       "      <td>2059874</td>\n",
       "      <td>515.0</td>\n",
       "      <td>1102</td>\n",
       "      <td>1.0</td>\n",
       "      <td>1.5</td>\n",
       "      <td>['Featured', 'Cats Allowed', 'Dogs Allowed', '...</td>\n",
       "      <td>...</td>\n",
       "      <td>0</td>\n",
       "      <td>0</td>\n",
       "      <td>0</td>\n",
       "      <td>0</td>\n",
       "      <td>0</td>\n",
       "      <td>0</td>\n",
       "      <td>0</td>\n",
       "      <td>0</td>\n",
       "      <td>0</td>\n",
       "      <td>0</td>\n",
       "    </tr>\n",
       "    <tr>\n",
       "      <th>3</th>\n",
       "      <td>https://www.renthop.com/apartments/1002-kenneb...</td>\n",
       "      <td>1002 Kennebec Street</td>\n",
       "      <td>38.8194</td>\n",
       "      <td>-76.9922</td>\n",
       "      <td>3427733</td>\n",
       "      <td>989.0</td>\n",
       "      <td>1529</td>\n",
       "      <td>3.0</td>\n",
       "      <td>2.5</td>\n",
       "      <td>['Featured', 'Cats Allowed', 'Dogs Allowed', '...</td>\n",
       "      <td>...</td>\n",
       "      <td>0</td>\n",
       "      <td>0</td>\n",
       "      <td>0</td>\n",
       "      <td>0</td>\n",
       "      <td>0</td>\n",
       "      <td>0</td>\n",
       "      <td>0</td>\n",
       "      <td>0</td>\n",
       "      <td>0</td>\n",
       "      <td>0</td>\n",
       "    </tr>\n",
       "    <tr>\n",
       "      <th>4</th>\n",
       "      <td>https://www.renthop.com/apartments/5601-regenc...</td>\n",
       "      <td>5601 Regency Park Court</td>\n",
       "      <td>38.8387</td>\n",
       "      <td>-76.9098</td>\n",
       "      <td>2096152</td>\n",
       "      <td>989.0</td>\n",
       "      <td>1299</td>\n",
       "      <td>2.0</td>\n",
       "      <td>1.5</td>\n",
       "      <td>['Featured', 'Air conditioning', 'Business cen...</td>\n",
       "      <td>...</td>\n",
       "      <td>0</td>\n",
       "      <td>0</td>\n",
       "      <td>0</td>\n",
       "      <td>0</td>\n",
       "      <td>0</td>\n",
       "      <td>0</td>\n",
       "      <td>0</td>\n",
       "      <td>0</td>\n",
       "      <td>0</td>\n",
       "      <td>0</td>\n",
       "    </tr>\n",
       "  </tbody>\n",
       "</table>\n",
       "<p>5 rows × 1427 columns</p>\n",
       "</div>"
      ],
      "text/plain": [
       "                                           listlinks  \\\n",
       "0  https://www.renthop.com/apartments/2400-pennsy...   \n",
       "1  https://www.renthop.com/apartments/4905-southl...   \n",
       "2  https://www.renthop.com/apartments/9704-clark-...   \n",
       "3  https://www.renthop.com/apartments/1002-kenneb...   \n",
       "4  https://www.renthop.com/apartments/5601-regenc...   \n",
       "\n",
       "              title_address     lats    longs       ids    sqft  rent_price  \\\n",
       "0  2400 Pennsylvania Ave Nw  38.9029 -77.0518  17137566     NaN        1630   \n",
       "1        4905 Southland Ave  38.8180 -77.1479   2007984  1160.0        1975   \n",
       "2             9704 Clark Pl  38.7434 -77.4669   2059874   515.0        1102   \n",
       "3      1002 Kennebec Street  38.8194 -76.9922   3427733   989.0        1529   \n",
       "4   5601 Regency Park Court  38.8387 -76.9098   2096152   989.0        1299   \n",
       "\n",
       "   bedrooms  bathrooms                                          amenities  \\\n",
       "0       0.5        1.0                                                 []   \n",
       "1       3.0        2.0  ['Featured', 'Cats Allowed', 'Dogs Allowed', '...   \n",
       "2       1.0        1.5  ['Featured', 'Cats Allowed', 'Dogs Allowed', '...   \n",
       "3       3.0        2.5  ['Featured', 'Cats Allowed', 'Dogs Allowed', '...   \n",
       "4       2.0        1.5  ['Featured', 'Air conditioning', 'Business cen...   \n",
       "\n",
       "     ...      Park-like setting  Military housing  Smoke Free Community  \\\n",
       "0    ...                      0                 0                     0   \n",
       "1    ...                      0                 0                     0   \n",
       "2    ...                      0                 0                     0   \n",
       "3    ...                      0                 0                     0   \n",
       "4    ...                      0                 0                     0   \n",
       "\n",
       "   Eat-In Kitchens  Pet rent of $50  Lovely Rock Creek Park Views  \\\n",
       "0                0                0                             0   \n",
       "1                0                0                             0   \n",
       "2                0                0                             0   \n",
       "3                0                0                             0   \n",
       "4                0                0                             0   \n",
       "\n",
       "   24-Hour Front Desk Attendant  Vaulted Ceilings  Generous closets space  \\\n",
       "0                             0                 0                       0   \n",
       "1                             0                 0                       0   \n",
       "2                             0                 0                       0   \n",
       "3                             0                 0                       0   \n",
       "4                             0                 0                       0   \n",
       "\n",
       "   Handrails  \n",
       "0          0  \n",
       "1          0  \n",
       "2          0  \n",
       "3          0  \n",
       "4          0  \n",
       "\n",
       "[5 rows x 1427 columns]"
      ]
     },
     "execution_count": 56,
     "metadata": {},
     "output_type": "execute_result"
    }
   ],
   "source": [
    "df.head()"
   ]
  },
  {
   "cell_type": "code",
   "execution_count": 57,
   "metadata": {},
   "outputs": [],
   "source": [
    "#Explore the amenities\n",
    "df1 = df.copy()\n",
    "\n",
    "dfamenities = df1.iloc[:,10:1427]"
   ]
  },
  {
   "cell_type": "code",
   "execution_count": 58,
   "metadata": {},
   "outputs": [],
   "source": [
    "#drop columns without any amenities, so they don't add noise to model\n",
    "dropthese = df1[df1['amenities'] == '[]'].index\n",
    "\n",
    "df1 = df1.drop(dropthese)"
   ]
  },
  {
   "cell_type": "code",
   "execution_count": 59,
   "metadata": {},
   "outputs": [
    {
     "data": {
      "text/plain": [
       "Central A/C         0.356022\n",
       "dishwasher          0.320113\n",
       "Dishwasher          0.315763\n",
       "refrigerator        0.312863\n",
       "Exterior Brick      0.273371\n",
       "Refrigerator        0.272091\n",
       "Garbage Disposer    0.261344\n",
       "Forced Air          0.258871\n",
       "Dryer               0.254521\n",
       "Microwave           0.215711\n",
       "dtype: float64"
      ]
     },
     "execution_count": 59,
     "metadata": {},
     "output_type": "execute_result"
    }
   ],
   "source": [
    "#It looks like there are duplicate amenities\n",
    "np.mean(dfamenities).nlargest(10)"
   ]
  },
  {
   "cell_type": "code",
   "execution_count": 60,
   "metadata": {},
   "outputs": [],
   "source": [
    "#turn all duplicate columns into lowercase\n",
    "\n",
    "dfamenities.columns = dfamenities.columns.str.lower()\n",
    "\n",
    "dfamenities = dfamenities.groupby(axis=1, level=0).sum()"
   ]
  },
  {
   "cell_type": "code",
   "execution_count": 61,
   "metadata": {},
   "outputs": [
    {
     "name": "stdout",
     "output_type": "stream",
     "text": [
      "[]\n",
      "dishwasher          0.635875\n",
      "refrigerator        0.584954\n",
      "dryer               0.396281\n",
      "washer              0.371290\n",
      "central a/c         0.356022\n",
      "exterior brick      0.273371\n",
      "garbage disposer    0.261344\n",
      "forced air          0.258871\n",
      "microwave           0.215711\n",
      "ac                  0.212555\n",
      "dtype: float64\n"
     ]
    }
   ],
   "source": [
    "#Check to make sure duplicate columns are cleared\n",
    "print(np.where(dfamenities.columns.duplicated())[0])\n",
    "\n",
    "print(np.mean(dfamenities.iloc[:,10:]).nlargest(10))"
   ]
  },
  {
   "cell_type": "code",
   "execution_count": 62,
   "metadata": {},
   "outputs": [],
   "source": [
    "#Read neighborhoods 1D array into df \n",
    "dfhoods = pd.read_excel('/Users/TCummings03/Desktop/DC_Neighborhoods 2.xlsx') "
   ]
  },
  {
   "cell_type": "code",
   "execution_count": 63,
   "metadata": {},
   "outputs": [
    {
     "data": {
      "text/html": [
       "<div>\n",
       "<style>\n",
       "    .dataframe thead tr:only-child th {\n",
       "        text-align: right;\n",
       "    }\n",
       "\n",
       "    .dataframe thead th {\n",
       "        text-align: left;\n",
       "    }\n",
       "\n",
       "    .dataframe tbody tr th {\n",
       "        vertical-align: top;\n",
       "    }\n",
       "</style>\n",
       "<table border=\"1\" class=\"dataframe\">\n",
       "  <thead>\n",
       "    <tr style=\"text-align: right;\">\n",
       "      <th></th>\n",
       "      <th>neighborhoods</th>\n",
       "    </tr>\n",
       "  </thead>\n",
       "  <tbody>\n",
       "    <tr>\n",
       "      <th>0</th>\n",
       "      <td>Northwest Washington</td>\n",
       "    </tr>\n",
       "    <tr>\n",
       "      <th>1</th>\n",
       "      <td>Lincolnia</td>\n",
       "    </tr>\n",
       "    <tr>\n",
       "      <th>2</th>\n",
       "      <td>Manassas</td>\n",
       "    </tr>\n",
       "    <tr>\n",
       "      <th>3</th>\n",
       "      <td>Oxon Hill</td>\n",
       "    </tr>\n",
       "    <tr>\n",
       "      <th>4</th>\n",
       "      <td>Suitland</td>\n",
       "    </tr>\n",
       "  </tbody>\n",
       "</table>\n",
       "</div>"
      ],
      "text/plain": [
       "          neighborhoods\n",
       "0  Northwest Washington\n",
       "1             Lincolnia\n",
       "2              Manassas\n",
       "3             Oxon Hill\n",
       "4              Suitland"
      ]
     },
     "execution_count": 63,
     "metadata": {},
     "output_type": "execute_result"
    }
   ],
   "source": [
    "dfhoods.head()"
   ]
  },
  {
   "cell_type": "code",
   "execution_count": 64,
   "metadata": {},
   "outputs": [],
   "source": [
    "dfhoods1 = dfhoods.drop(dropthese)"
   ]
  },
  {
   "cell_type": "code",
   "execution_count": 65,
   "metadata": {},
   "outputs": [],
   "source": [
    "#Create dummy variables for neighborhoods\n",
    "dummies = pd.get_dummies(dfhoods1.neighborhoods)"
   ]
  },
  {
   "cell_type": "code",
   "execution_count": 66,
   "metadata": {
    "scrolled": true
   },
   "outputs": [],
   "source": [
    "#Create df with dummy variables\n",
    "df1 = pd.concat([df1, dummies, dfhoods1], axis=1)\n",
    "\n",
    "df1 = df1.loc[:,~df1.columns.duplicated()] #drop duplicate columns"
   ]
  },
  {
   "cell_type": "markdown",
   "metadata": {},
   "source": [
    "Exploratory Data Analysis with Visualizations:\n",
    "\n",
    "Since rent price is our target variable, let's plot each of our numeric variables against rent price."
   ]
  },
  {
   "cell_type": "code",
   "execution_count": 67,
   "metadata": {},
   "outputs": [
    {
     "data": {
      "text/html": [
       "<div>\n",
       "<style>\n",
       "    .dataframe thead tr:only-child th {\n",
       "        text-align: right;\n",
       "    }\n",
       "\n",
       "    .dataframe thead th {\n",
       "        text-align: left;\n",
       "    }\n",
       "\n",
       "    .dataframe tbody tr th {\n",
       "        vertical-align: top;\n",
       "    }\n",
       "</style>\n",
       "<table border=\"1\" class=\"dataframe\">\n",
       "  <thead>\n",
       "    <tr style=\"text-align: right;\">\n",
       "      <th></th>\n",
       "      <th>rent_price</th>\n",
       "      <th>sqft</th>\n",
       "      <th>bedrooms</th>\n",
       "      <th>bathrooms</th>\n",
       "    </tr>\n",
       "  </thead>\n",
       "  <tbody>\n",
       "    <tr>\n",
       "      <th>count</th>\n",
       "      <td>10360.000000</td>\n",
       "      <td>7121.000000</td>\n",
       "      <td>10360.000000</td>\n",
       "      <td>10360.000000</td>\n",
       "    </tr>\n",
       "    <tr>\n",
       "      <th>mean</th>\n",
       "      <td>2366.041409</td>\n",
       "      <td>1496.816037</td>\n",
       "      <td>2.524421</td>\n",
       "      <td>2.195753</td>\n",
       "    </tr>\n",
       "    <tr>\n",
       "      <th>std</th>\n",
       "      <td>1155.114658</td>\n",
       "      <td>2287.933623</td>\n",
       "      <td>1.233749</td>\n",
       "      <td>1.085184</td>\n",
       "    </tr>\n",
       "    <tr>\n",
       "      <th>min</th>\n",
       "      <td>550.000000</td>\n",
       "      <td>1.000000</td>\n",
       "      <td>0.500000</td>\n",
       "      <td>1.000000</td>\n",
       "    </tr>\n",
       "    <tr>\n",
       "      <th>25%</th>\n",
       "      <td>1652.250000</td>\n",
       "      <td>852.000000</td>\n",
       "      <td>2.000000</td>\n",
       "      <td>1.000000</td>\n",
       "    </tr>\n",
       "    <tr>\n",
       "      <th>50%</th>\n",
       "      <td>2100.000000</td>\n",
       "      <td>1158.000000</td>\n",
       "      <td>2.000000</td>\n",
       "      <td>2.000000</td>\n",
       "    </tr>\n",
       "    <tr>\n",
       "      <th>75%</th>\n",
       "      <td>2731.250000</td>\n",
       "      <td>1717.000000</td>\n",
       "      <td>3.000000</td>\n",
       "      <td>3.000000</td>\n",
       "    </tr>\n",
       "    <tr>\n",
       "      <th>max</th>\n",
       "      <td>16900.000000</td>\n",
       "      <td>99999.000000</td>\n",
       "      <td>9.000000</td>\n",
       "      <td>9.000000</td>\n",
       "    </tr>\n",
       "  </tbody>\n",
       "</table>\n",
       "</div>"
      ],
      "text/plain": [
       "         rent_price          sqft      bedrooms     bathrooms\n",
       "count  10360.000000   7121.000000  10360.000000  10360.000000\n",
       "mean    2366.041409   1496.816037      2.524421      2.195753\n",
       "std     1155.114658   2287.933623      1.233749      1.085184\n",
       "min      550.000000      1.000000      0.500000      1.000000\n",
       "25%     1652.250000    852.000000      2.000000      1.000000\n",
       "50%     2100.000000   1158.000000      2.000000      2.000000\n",
       "75%     2731.250000   1717.000000      3.000000      3.000000\n",
       "max    16900.000000  99999.000000      9.000000      9.000000"
      ]
     },
     "execution_count": 67,
     "metadata": {},
     "output_type": "execute_result"
    }
   ],
   "source": [
    "df1[['rent_price', 'sqft','bedrooms', 'bathrooms']].describe()"
   ]
  },
  {
   "cell_type": "code",
   "execution_count": 68,
   "metadata": {},
   "outputs": [
    {
     "data": {
      "text/plain": [
       "<matplotlib.axes._subplots.AxesSubplot at 0x1113cb0f0>"
      ]
     },
     "execution_count": 68,
     "metadata": {},
     "output_type": "execute_result"
    },
    {
     "data": {
      "image/png": "[encoded data removed]",
      "text/plain": [
       "<matplotlib.figure.Figure at 0x12ee658d0>"
      ]
     },
     "metadata": {},
     "output_type": "display_data"
    }
   ],
   "source": [
    "#Plot of Price vs Sqft - looks like most of the data is less than 10k sqft and less than $20k\n",
    "#However, there are some glaring outliers\n",
    "plt.title('Price vs. Sqft')\n",
    "sns.regplot(df1.sqft, df1.rent_price)"
   ]
  },
  {
   "cell_type": "code",
   "execution_count": 69,
   "metadata": {},
   "outputs": [
    {
     "data": {
      "text/plain": [
       "<matplotlib.text.Text at 0x127e51d68>"
      ]
     },
     "execution_count": 69,
     "metadata": {},
     "output_type": "execute_result"
    },
    {
     "data": {
      "image/png": "[encoded data removed]",
      "text/plain": [
       "<matplotlib.figure.Figure at 0x13039dcc0>"
      ]
     },
     "metadata": {},
     "output_type": "display_data"
    }
   ],
   "source": [
    "#plot of Price vs Bedrooms\n",
    "#On average, it looks like the more bedrooms, the higher rent price\n",
    "\n",
    "f, ax = plt.subplots(figsize=(10, 8))\n",
    "fig = sns.boxplot(x='bedrooms', y=\"rent_price\", data=df1, color='green')\n",
    "fig.axis(ymin=0, ymax=21000);\n",
    "ax.set_title('Bedrooms vs. Rent Price', size='x-large')\n",
    "ax.set_xlabel('Bedrooms')\n",
    "ax.set_ylabel('Rent Price ($)')"
   ]
  },
  {
   "cell_type": "code",
   "execution_count": 70,
   "metadata": {},
   "outputs": [
    {
     "data": {
      "text/plain": [
       "<matplotlib.text.Text at 0x11b21c2e8>"
      ]
     },
     "execution_count": 70,
     "metadata": {},
     "output_type": "execute_result"
    },
    {
     "data": {
      "image/png": "[encoded data removed]",
      "text/plain": [
       "<matplotlib.figure.Figure at 0x13039d9e8>"
      ]
     },
     "metadata": {},
     "output_type": "display_data"
    }
   ],
   "source": [
    "#plot of Price vs Bathrooms - doesn't look as clear cut as bedrooms, but the trend seems\n",
    "#to be more bathrooms --> higher rent price\n",
    "f, ax = plt.subplots(figsize=(10, 8))\n",
    "fig = sns.boxplot(x='bathrooms', y=\"rent_price\", data=df1)\n",
    "fig.axis(ymin=0, ymax=21000);\n",
    "ax.set_title('Bathrooms vs. Rent Price', size='x-large')\n",
    "ax.set_xlabel('Bathrooms')\n",
    "ax.set_ylabel('Rent Price ($)')"
   ]
  },
  {
   "cell_type": "markdown",
   "metadata": {},
   "source": [
    "From the plots above, we can see that each plot has a positive trend, which makes sense since the more bathrooms, bedrooms, and larger sqft seems to command a higher price. However, we can also notice some outliers, particularly the points with sqft > 20,000, and the 2 bedroom, 1 bathroom rental for $20,000. These points must be explored."
   ]
  },
  {
   "cell_type": "markdown",
   "metadata": {},
   "source": [
    "Checking for Outliers"
   ]
  },
  {
   "cell_type": "code",
   "execution_count": 71,
   "metadata": {},
   "outputs": [
    {
     "data": {
      "text/html": [
       "<div>\n",
       "<style>\n",
       "    .dataframe thead tr:only-child th {\n",
       "        text-align: right;\n",
       "    }\n",
       "\n",
       "    .dataframe thead th {\n",
       "        text-align: left;\n",
       "    }\n",
       "\n",
       "    .dataframe tbody tr th {\n",
       "        vertical-align: top;\n",
       "    }\n",
       "</style>\n",
       "<table border=\"1\" class=\"dataframe\">\n",
       "  <thead>\n",
       "    <tr style=\"text-align: right;\">\n",
       "      <th></th>\n",
       "      <th>listlinks</th>\n",
       "      <th>title_address</th>\n",
       "      <th>lats</th>\n",
       "      <th>longs</th>\n",
       "      <th>ids</th>\n",
       "      <th>sqft</th>\n",
       "      <th>rent_price</th>\n",
       "      <th>bedrooms</th>\n",
       "      <th>bathrooms</th>\n",
       "      <th>amenities</th>\n",
       "      <th>...</th>\n",
       "      <th>West Springfield</th>\n",
       "      <th>Westover</th>\n",
       "      <th>Wheaton</th>\n",
       "      <th>White Plains</th>\n",
       "      <th>Williamsburg</th>\n",
       "      <th>Woodbine</th>\n",
       "      <th>Woodbridge</th>\n",
       "      <th>Woodmont Triangle</th>\n",
       "      <th>Yorktown</th>\n",
       "      <th>neighborhoods</th>\n",
       "    </tr>\n",
       "  </thead>\n",
       "  <tbody>\n",
       "  </tbody>\n",
       "</table>\n",
       "<p>0 rows × 1677 columns</p>\n",
       "</div>"
      ],
      "text/plain": [
       "Empty DataFrame\n",
       "Columns: [listlinks, title_address, lats, longs, ids, sqft, rent_price, bedrooms, bathrooms, amenities, Dogs Allowed, Cable/Satellite Ready, Art Deco, Mid rise, 9 Ft. Ceilings, Upgraded Flooring, French Doors, Abundant shopping and dining, Basketball court, Spacious club lounge, Spacious Floorplans, Steps to Bus Service, Oven - Gas, Pay Rent On-Line, Polished Parquet Floors, Small Building, Gas Range, Individual climate control, Garage Parking Available, Standard, Eat-in kitchens*, Pre-wired for cable TV, Solid six-panel front doors, Walk to Washingtonian Center, Gated Entrance/Controlled Access, Rhode Island Ave View, Smoke-Free Environment, Private Balcony, International, 9.5-foot ceilings, Utilities paid, Standpipe Fire System, Laundry in Unit, Convienently located, washer, Cooktop, Exterior Masonite, Energy Efficent Appliances, Green Building, Two ZipCars, Stainless Steel Sinks, Ceiling Fans*, Easy Access to I-270 & I-495, Penthouse Level Party Room, Six Panel Doors Throughout, Bike Room, Rooftop Pool & Lounge, Individual Climate Control, 24-Hour Responsive Maintenence, Ceramic Tile Flooring, Giant balconies or patios, Short term lease, Choose Accent Wall Color, On Site Maintenance, Multi-Channel Cable, Large Closets, High rise, Energy Efficient Utilities, Utilities included, Courtyard Setting, Availability 24 Hours, Online Rent Payment and Resident Portal, 2 Bedroom Guest Suite, Two Swimming Pools, 24 Hour Maintenance, Carpeting, Resident Lounge with Wi-Fi, floors, Oversized Closets, Swimming Pool & Sun Deck, Courtyard/Grill/Picnic Area, Short Term Lease, Thermal Windows, Metro right at front door, Tiled Bathrooms, On-Line Resident Services, Oasis-inspired courtyard, Loft Apartments, Moveable Chefs Island, Surface parking, Valet Laundry and Dry Cleaning, Beautiful Landscaping, Pass-Through Kitchens, Walk in closets, Trash removal included, On Site Parking, On-Site Parking, Business center and lounge, Mature Tree-filled Community, Package acceptance service, ...]\n",
       "Index: []\n",
       "\n",
       "[0 rows x 1677 columns]"
      ]
     },
     "execution_count": 71,
     "metadata": {},
     "output_type": "execute_result"
    }
   ],
   "source": [
    "#Checking the rentals for over $20,000\n",
    "df1[df1['rent_price'] >= 20000]"
   ]
  },
  {
   "cell_type": "markdown",
   "metadata": {},
   "source": [
    "This listing does not appear to be a realistic observation, with a $20,000 rent price and only 2 bedrooms and one bathroom. We will remove it"
   ]
  },
  {
   "cell_type": "code",
   "execution_count": 72,
   "metadata": {},
   "outputs": [],
   "source": [
    "df1 = df1.drop(df1[df1['rent_price'] == 20000].index) #Drop the row where rent_price = $20,000"
   ]
  },
  {
   "cell_type": "markdown",
   "metadata": {},
   "source": [
    "From the table below, we can see that some have sqft of 99999, or high square footage, with unrealistically low rent prices. These points maybe have been inputting incorrectly, so we will drop these points because they will add noise the the data. "
   ]
  },
  {
   "cell_type": "code",
   "execution_count": 73,
   "metadata": {},
   "outputs": [
    {
     "data": {
      "text/html": [
       "<div>\n",
       "<style>\n",
       "    .dataframe thead tr:only-child th {\n",
       "        text-align: right;\n",
       "    }\n",
       "\n",
       "    .dataframe thead th {\n",
       "        text-align: left;\n",
       "    }\n",
       "\n",
       "    .dataframe tbody tr th {\n",
       "        vertical-align: top;\n",
       "    }\n",
       "</style>\n",
       "<table border=\"1\" class=\"dataframe\">\n",
       "  <thead>\n",
       "    <tr style=\"text-align: right;\">\n",
       "      <th></th>\n",
       "      <th>listlinks</th>\n",
       "      <th>title_address</th>\n",
       "      <th>lats</th>\n",
       "      <th>longs</th>\n",
       "      <th>ids</th>\n",
       "      <th>sqft</th>\n",
       "      <th>rent_price</th>\n",
       "      <th>bedrooms</th>\n",
       "      <th>bathrooms</th>\n",
       "      <th>amenities</th>\n",
       "      <th>...</th>\n",
       "      <th>West Springfield</th>\n",
       "      <th>Westover</th>\n",
       "      <th>Wheaton</th>\n",
       "      <th>White Plains</th>\n",
       "      <th>Williamsburg</th>\n",
       "      <th>Woodbine</th>\n",
       "      <th>Woodbridge</th>\n",
       "      <th>Woodmont Triangle</th>\n",
       "      <th>Yorktown</th>\n",
       "      <th>neighborhoods</th>\n",
       "    </tr>\n",
       "  </thead>\n",
       "  <tbody>\n",
       "    <tr>\n",
       "      <th>30</th>\n",
       "      <td>https://www.renthop.com/apartments/5327-carswe...</td>\n",
       "      <td>5327 Carswell Avenue</td>\n",
       "      <td>38.8175</td>\n",
       "      <td>-76.8992</td>\n",
       "      <td>2857177</td>\n",
       "      <td>99999.0</td>\n",
       "      <td>930</td>\n",
       "      <td>1.0</td>\n",
       "      <td>1.0</td>\n",
       "      <td>['Featured', '24 Hour Maintenance', 'Bilingual...</td>\n",
       "      <td>...</td>\n",
       "      <td>0</td>\n",
       "      <td>0</td>\n",
       "      <td>0</td>\n",
       "      <td>0</td>\n",
       "      <td>0</td>\n",
       "      <td>0</td>\n",
       "      <td>0</td>\n",
       "      <td>0</td>\n",
       "      <td>0</td>\n",
       "      <td>Camp Springs</td>\n",
       "    </tr>\n",
       "    <tr>\n",
       "      <th>104</th>\n",
       "      <td>https://www.renthop.com/apartments/5327-carswe...</td>\n",
       "      <td>5327 Carswell Avenue</td>\n",
       "      <td>38.8175</td>\n",
       "      <td>-76.8992</td>\n",
       "      <td>2857027</td>\n",
       "      <td>99999.0</td>\n",
       "      <td>1533</td>\n",
       "      <td>3.0</td>\n",
       "      <td>1.0</td>\n",
       "      <td>['Featured', '24 Hour Maintenance', 'Bilingual...</td>\n",
       "      <td>...</td>\n",
       "      <td>0</td>\n",
       "      <td>0</td>\n",
       "      <td>0</td>\n",
       "      <td>0</td>\n",
       "      <td>0</td>\n",
       "      <td>0</td>\n",
       "      <td>0</td>\n",
       "      <td>0</td>\n",
       "      <td>0</td>\n",
       "      <td>Camp Springs</td>\n",
       "    </tr>\n",
       "    <tr>\n",
       "      <th>1770</th>\n",
       "      <td>https://www.renthop.com/apartments/43760-trade...</td>\n",
       "      <td>43760 Trade Center Place</td>\n",
       "      <td>38.9689</td>\n",
       "      <td>-77.4884</td>\n",
       "      <td>13115328</td>\n",
       "      <td>10400.0</td>\n",
       "      <td>4500</td>\n",
       "      <td>1.0</td>\n",
       "      <td>2.0</td>\n",
       "      <td>['dishwasher']</td>\n",
       "      <td>...</td>\n",
       "      <td>0</td>\n",
       "      <td>0</td>\n",
       "      <td>0</td>\n",
       "      <td>0</td>\n",
       "      <td>0</td>\n",
       "      <td>0</td>\n",
       "      <td>0</td>\n",
       "      <td>0</td>\n",
       "      <td>0</td>\n",
       "      <td>Dulles</td>\n",
       "    </tr>\n",
       "    <tr>\n",
       "      <th>6893</th>\n",
       "      <td>https://www.renthop.com/apartments/2120-tangle...</td>\n",
       "      <td>2120 Tanglewood Drive</td>\n",
       "      <td>38.6457</td>\n",
       "      <td>-76.9008</td>\n",
       "      <td>11765173</td>\n",
       "      <td>11550.0</td>\n",
       "      <td>1400</td>\n",
       "      <td>3.0</td>\n",
       "      <td>1.5</td>\n",
       "      <td>['storage', 'cable', 'dishwasher', 'refrigerat...</td>\n",
       "      <td>...</td>\n",
       "      <td>0</td>\n",
       "      <td>0</td>\n",
       "      <td>0</td>\n",
       "      <td>0</td>\n",
       "      <td>0</td>\n",
       "      <td>0</td>\n",
       "      <td>0</td>\n",
       "      <td>0</td>\n",
       "      <td>0</td>\n",
       "      <td>Waldorf</td>\n",
       "    </tr>\n",
       "    <tr>\n",
       "      <th>7237</th>\n",
       "      <td>https://www.renthop.com/apartments/1005-white-...</td>\n",
       "      <td>1005 White Chimney Court</td>\n",
       "      <td>38.9684</td>\n",
       "      <td>-77.2602</td>\n",
       "      <td>9989996</td>\n",
       "      <td>12751.0</td>\n",
       "      <td>15000</td>\n",
       "      <td>6.0</td>\n",
       "      <td>7.5</td>\n",
       "      <td>['elevator', 'dishwasher', 'dryer', 'ac', 'ref...</td>\n",
       "      <td>...</td>\n",
       "      <td>0</td>\n",
       "      <td>0</td>\n",
       "      <td>0</td>\n",
       "      <td>0</td>\n",
       "      <td>0</td>\n",
       "      <td>0</td>\n",
       "      <td>0</td>\n",
       "      <td>0</td>\n",
       "      <td>0</td>\n",
       "      <td>McLean</td>\n",
       "    </tr>\n",
       "    <tr>\n",
       "      <th>7456</th>\n",
       "      <td>https://www.renthop.com/apartments/13300-kilma...</td>\n",
       "      <td>13300 Kilmarnock Way</td>\n",
       "      <td>39.1466</td>\n",
       "      <td>-77.2756</td>\n",
       "      <td>13212952</td>\n",
       "      <td>99999.0</td>\n",
       "      <td>1475</td>\n",
       "      <td>2.0</td>\n",
       "      <td>2.0</td>\n",
       "      <td>['ac']</td>\n",
       "      <td>...</td>\n",
       "      <td>0</td>\n",
       "      <td>0</td>\n",
       "      <td>0</td>\n",
       "      <td>0</td>\n",
       "      <td>0</td>\n",
       "      <td>0</td>\n",
       "      <td>0</td>\n",
       "      <td>0</td>\n",
       "      <td>0</td>\n",
       "      <td>Germantown</td>\n",
       "    </tr>\n",
       "    <tr>\n",
       "      <th>7926</th>\n",
       "      <td>https://www.renthop.com/apartments/3002-glebe-...</td>\n",
       "      <td>3002 Glebe Road S</td>\n",
       "      <td>38.8449</td>\n",
       "      <td>-77.0664</td>\n",
       "      <td>18490390</td>\n",
       "      <td>20525.0</td>\n",
       "      <td>2995</td>\n",
       "      <td>3.0</td>\n",
       "      <td>3.5</td>\n",
       "      <td>['Contemporary', 'Dishwasher', 'Dryer', 'Garba...</td>\n",
       "      <td>...</td>\n",
       "      <td>0</td>\n",
       "      <td>0</td>\n",
       "      <td>0</td>\n",
       "      <td>0</td>\n",
       "      <td>0</td>\n",
       "      <td>0</td>\n",
       "      <td>0</td>\n",
       "      <td>0</td>\n",
       "      <td>0</td>\n",
       "      <td>Arlington Ridge</td>\n",
       "    </tr>\n",
       "    <tr>\n",
       "      <th>8056</th>\n",
       "      <td>https://www.renthop.com/apartments/7442-carria...</td>\n",
       "      <td>7442 Carriage Hills Drive</td>\n",
       "      <td>38.9256</td>\n",
       "      <td>-77.2007</td>\n",
       "      <td>18422045</td>\n",
       "      <td>25540.0</td>\n",
       "      <td>3800</td>\n",
       "      <td>3.0</td>\n",
       "      <td>5.0</td>\n",
       "      <td>['Colonial', 'Central A/C', 'Zoned A/C', 'Forc...</td>\n",
       "      <td>...</td>\n",
       "      <td>0</td>\n",
       "      <td>0</td>\n",
       "      <td>0</td>\n",
       "      <td>0</td>\n",
       "      <td>0</td>\n",
       "      <td>0</td>\n",
       "      <td>0</td>\n",
       "      <td>0</td>\n",
       "      <td>0</td>\n",
       "      <td>McLean</td>\n",
       "    </tr>\n",
       "  </tbody>\n",
       "</table>\n",
       "<p>8 rows × 1677 columns</p>\n",
       "</div>"
      ],
      "text/plain": [
       "                                              listlinks  \\\n",
       "30    https://www.renthop.com/apartments/5327-carswe...   \n",
       "104   https://www.renthop.com/apartments/5327-carswe...   \n",
       "1770  https://www.renthop.com/apartments/43760-trade...   \n",
       "6893  https://www.renthop.com/apartments/2120-tangle...   \n",
       "7237  https://www.renthop.com/apartments/1005-white-...   \n",
       "7456  https://www.renthop.com/apartments/13300-kilma...   \n",
       "7926  https://www.renthop.com/apartments/3002-glebe-...   \n",
       "8056  https://www.renthop.com/apartments/7442-carria...   \n",
       "\n",
       "                  title_address     lats    longs       ids     sqft  \\\n",
       "30         5327 Carswell Avenue  38.8175 -76.8992   2857177  99999.0   \n",
       "104        5327 Carswell Avenue  38.8175 -76.8992   2857027  99999.0   \n",
       "1770   43760 Trade Center Place  38.9689 -77.4884  13115328  10400.0   \n",
       "6893      2120 Tanglewood Drive  38.6457 -76.9008  11765173  11550.0   \n",
       "7237   1005 White Chimney Court  38.9684 -77.2602   9989996  12751.0   \n",
       "7456       13300 Kilmarnock Way  39.1466 -77.2756  13212952  99999.0   \n",
       "7926          3002 Glebe Road S  38.8449 -77.0664  18490390  20525.0   \n",
       "8056  7442 Carriage Hills Drive  38.9256 -77.2007  18422045  25540.0   \n",
       "\n",
       "      rent_price  bedrooms  bathrooms  \\\n",
       "30           930       1.0        1.0   \n",
       "104         1533       3.0        1.0   \n",
       "1770        4500       1.0        2.0   \n",
       "6893        1400       3.0        1.5   \n",
       "7237       15000       6.0        7.5   \n",
       "7456        1475       2.0        2.0   \n",
       "7926        2995       3.0        3.5   \n",
       "8056        3800       3.0        5.0   \n",
       "\n",
       "                                              amenities       ...         \\\n",
       "30    ['Featured', '24 Hour Maintenance', 'Bilingual...       ...          \n",
       "104   ['Featured', '24 Hour Maintenance', 'Bilingual...       ...          \n",
       "1770                                     ['dishwasher']       ...          \n",
       "6893  ['storage', 'cable', 'dishwasher', 'refrigerat...       ...          \n",
       "7237  ['elevator', 'dishwasher', 'dryer', 'ac', 'ref...       ...          \n",
       "7456                                             ['ac']       ...          \n",
       "7926  ['Contemporary', 'Dishwasher', 'Dryer', 'Garba...       ...          \n",
       "8056  ['Colonial', 'Central A/C', 'Zoned A/C', 'Forc...       ...          \n",
       "\n",
       "      West Springfield  Westover  Wheaton  White Plains  Williamsburg  \\\n",
       "30                   0         0        0             0             0   \n",
       "104                  0         0        0             0             0   \n",
       "1770                 0         0        0             0             0   \n",
       "6893                 0         0        0             0             0   \n",
       "7237                 0         0        0             0             0   \n",
       "7456                 0         0        0             0             0   \n",
       "7926                 0         0        0             0             0   \n",
       "8056                 0         0        0             0             0   \n",
       "\n",
       "      Woodbine  Woodbridge  Woodmont Triangle  Yorktown    neighborhoods  \n",
       "30           0           0                  0         0     Camp Springs  \n",
       "104          0           0                  0         0     Camp Springs  \n",
       "1770         0           0                  0         0           Dulles  \n",
       "6893         0           0                  0         0          Waldorf  \n",
       "7237         0           0                  0         0           McLean  \n",
       "7456         0           0                  0         0       Germantown  \n",
       "7926         0           0                  0         0  Arlington Ridge  \n",
       "8056         0           0                  0         0           McLean  \n",
       "\n",
       "[8 rows x 1677 columns]"
      ]
     },
     "execution_count": 73,
     "metadata": {},
     "output_type": "execute_result"
    }
   ],
   "source": [
    "\n",
    "df1[df1.sqft > 10000]"
   ]
  },
  {
   "cell_type": "code",
   "execution_count": 74,
   "metadata": {},
   "outputs": [],
   "source": [
    "rows_to_drop = df1[df1.sqft > 10000].index #drop rows over 10k sqft"
   ]
  },
  {
   "cell_type": "code",
   "execution_count": 75,
   "metadata": {},
   "outputs": [],
   "source": [
    "#Drop data points with sqft greater than 10000\n",
    "\n",
    "df1 = df1.drop(rows_to_drop)"
   ]
  },
  {
   "cell_type": "code",
   "execution_count": 76,
   "metadata": {},
   "outputs": [
    {
     "data": {
      "text/plain": [
       "<matplotlib.axes._subplots.AxesSubplot at 0x130373630>"
      ]
     },
     "execution_count": 76,
     "metadata": {},
     "output_type": "execute_result"
    },
    {
     "data": {
      "image/png": "[encoded data removed]",
      "text/plain": [
       "<matplotlib.figure.Figure at 0x1113af7b8>"
      ]
     },
     "metadata": {},
     "output_type": "display_data"
    }
   ],
   "source": [
    "#Plot of Price vs Sqft\n",
    "plt.title('Price vs. Sqft')\n",
    "sns.regplot(df1.sqft, df1.rent_price)"
   ]
  },
  {
   "cell_type": "markdown",
   "metadata": {},
   "source": [
    "After creating another plot I noticed a strange group of points with a rent price of $2000 or less and sqft around 10k. Let's explore these."
   ]
  },
  {
   "cell_type": "code",
   "execution_count": 77,
   "metadata": {},
   "outputs": [
    {
     "data": {
      "text/html": [
       "<div>\n",
       "<style>\n",
       "    .dataframe thead tr:only-child th {\n",
       "        text-align: right;\n",
       "    }\n",
       "\n",
       "    .dataframe thead th {\n",
       "        text-align: left;\n",
       "    }\n",
       "\n",
       "    .dataframe tbody tr th {\n",
       "        vertical-align: top;\n",
       "    }\n",
       "</style>\n",
       "<table border=\"1\" class=\"dataframe\">\n",
       "  <thead>\n",
       "    <tr style=\"text-align: right;\">\n",
       "      <th></th>\n",
       "      <th>listlinks</th>\n",
       "      <th>title_address</th>\n",
       "      <th>lats</th>\n",
       "      <th>longs</th>\n",
       "      <th>ids</th>\n",
       "      <th>sqft</th>\n",
       "      <th>rent_price</th>\n",
       "      <th>bedrooms</th>\n",
       "      <th>bathrooms</th>\n",
       "      <th>amenities</th>\n",
       "      <th>...</th>\n",
       "      <th>West Springfield</th>\n",
       "      <th>Westover</th>\n",
       "      <th>Wheaton</th>\n",
       "      <th>White Plains</th>\n",
       "      <th>Williamsburg</th>\n",
       "      <th>Woodbine</th>\n",
       "      <th>Woodbridge</th>\n",
       "      <th>Woodmont Triangle</th>\n",
       "      <th>Yorktown</th>\n",
       "      <th>neighborhoods</th>\n",
       "    </tr>\n",
       "  </thead>\n",
       "  <tbody>\n",
       "    <tr>\n",
       "      <th>1209</th>\n",
       "      <td>https://www.renthop.com/apartments/10379-green...</td>\n",
       "      <td>10379 Green Holly Terrace</td>\n",
       "      <td>39.0254</td>\n",
       "      <td>-77.0403</td>\n",
       "      <td>13213056</td>\n",
       "      <td>9999.0</td>\n",
       "      <td>1995</td>\n",
       "      <td>3.0</td>\n",
       "      <td>3.5</td>\n",
       "      <td>['dishwasher', 'dryer', 'refrigerator', 'washer']</td>\n",
       "      <td>...</td>\n",
       "      <td>0</td>\n",
       "      <td>0</td>\n",
       "      <td>0</td>\n",
       "      <td>0</td>\n",
       "      <td>0</td>\n",
       "      <td>0</td>\n",
       "      <td>0</td>\n",
       "      <td>0</td>\n",
       "      <td>0</td>\n",
       "      <td>Forest Glen</td>\n",
       "    </tr>\n",
       "    <tr>\n",
       "      <th>8816</th>\n",
       "      <td>https://www.renthop.com/apartments/12407-hicko...</td>\n",
       "      <td>12407 Hickory Tree Way</td>\n",
       "      <td>39.1746</td>\n",
       "      <td>-77.2570</td>\n",
       "      <td>18463845</td>\n",
       "      <td>9999.0</td>\n",
       "      <td>1150</td>\n",
       "      <td>2.0</td>\n",
       "      <td>1.0</td>\n",
       "      <td>['Central A/C', 'Forced Air', 'Exterior Brick']</td>\n",
       "      <td>...</td>\n",
       "      <td>0</td>\n",
       "      <td>0</td>\n",
       "      <td>0</td>\n",
       "      <td>0</td>\n",
       "      <td>0</td>\n",
       "      <td>0</td>\n",
       "      <td>0</td>\n",
       "      <td>0</td>\n",
       "      <td>0</td>\n",
       "      <td>Germantown</td>\n",
       "    </tr>\n",
       "    <tr>\n",
       "      <th>9562</th>\n",
       "      <td>https://www.renthop.com/apartments/18334-strea...</td>\n",
       "      <td>18334 Streamside Drive</td>\n",
       "      <td>39.1571</td>\n",
       "      <td>-77.1684</td>\n",
       "      <td>18414798</td>\n",
       "      <td>9999.0</td>\n",
       "      <td>1025</td>\n",
       "      <td>1.0</td>\n",
       "      <td>1.0</td>\n",
       "      <td>['Dryer', 'Microwave', 'Refrigerator', 'Washer...</td>\n",
       "      <td>...</td>\n",
       "      <td>0</td>\n",
       "      <td>0</td>\n",
       "      <td>0</td>\n",
       "      <td>0</td>\n",
       "      <td>0</td>\n",
       "      <td>0</td>\n",
       "      <td>0</td>\n",
       "      <td>0</td>\n",
       "      <td>0</td>\n",
       "      <td>Gaithersburg</td>\n",
       "    </tr>\n",
       "    <tr>\n",
       "      <th>9849</th>\n",
       "      <td>https://www.renthop.com/apartments/12411-hicko...</td>\n",
       "      <td>12411 Hickory Tree Way</td>\n",
       "      <td>39.1746</td>\n",
       "      <td>-77.2569</td>\n",
       "      <td>18603329</td>\n",
       "      <td>9999.0</td>\n",
       "      <td>1195</td>\n",
       "      <td>2.0</td>\n",
       "      <td>2.0</td>\n",
       "      <td>['Dishwasher', 'Dryer', 'Refrigerator', 'Washe...</td>\n",
       "      <td>...</td>\n",
       "      <td>0</td>\n",
       "      <td>0</td>\n",
       "      <td>0</td>\n",
       "      <td>0</td>\n",
       "      <td>0</td>\n",
       "      <td>0</td>\n",
       "      <td>0</td>\n",
       "      <td>0</td>\n",
       "      <td>0</td>\n",
       "      <td>Germantown</td>\n",
       "    </tr>\n",
       "    <tr>\n",
       "      <th>10038</th>\n",
       "      <td>https://www.renthop.com/apartments/1201-east-w...</td>\n",
       "      <td>1201 East West Highway</td>\n",
       "      <td>38.9907</td>\n",
       "      <td>-77.0295</td>\n",
       "      <td>18674983</td>\n",
       "      <td>9999.0</td>\n",
       "      <td>1650</td>\n",
       "      <td>1.0</td>\n",
       "      <td>1.0</td>\n",
       "      <td>['Dishwasher', 'Dryer', 'Microwave', 'Refriger...</td>\n",
       "      <td>...</td>\n",
       "      <td>0</td>\n",
       "      <td>0</td>\n",
       "      <td>0</td>\n",
       "      <td>0</td>\n",
       "      <td>0</td>\n",
       "      <td>0</td>\n",
       "      <td>0</td>\n",
       "      <td>0</td>\n",
       "      <td>0</td>\n",
       "      <td>Downtown Silver Spring</td>\n",
       "    </tr>\n",
       "  </tbody>\n",
       "</table>\n",
       "<p>5 rows × 1677 columns</p>\n",
       "</div>"
      ],
      "text/plain": [
       "                                               listlinks  \\\n",
       "1209   https://www.renthop.com/apartments/10379-green...   \n",
       "8816   https://www.renthop.com/apartments/12407-hicko...   \n",
       "9562   https://www.renthop.com/apartments/18334-strea...   \n",
       "9849   https://www.renthop.com/apartments/12411-hicko...   \n",
       "10038  https://www.renthop.com/apartments/1201-east-w...   \n",
       "\n",
       "                   title_address     lats    longs       ids    sqft  \\\n",
       "1209   10379 Green Holly Terrace  39.0254 -77.0403  13213056  9999.0   \n",
       "8816      12407 Hickory Tree Way  39.1746 -77.2570  18463845  9999.0   \n",
       "9562      18334 Streamside Drive  39.1571 -77.1684  18414798  9999.0   \n",
       "9849      12411 Hickory Tree Way  39.1746 -77.2569  18603329  9999.0   \n",
       "10038     1201 East West Highway  38.9907 -77.0295  18674983  9999.0   \n",
       "\n",
       "       rent_price  bedrooms  bathrooms  \\\n",
       "1209         1995       3.0        3.5   \n",
       "8816         1150       2.0        1.0   \n",
       "9562         1025       1.0        1.0   \n",
       "9849         1195       2.0        2.0   \n",
       "10038        1650       1.0        1.0   \n",
       "\n",
       "                                               amenities  \\\n",
       "1209   ['dishwasher', 'dryer', 'refrigerator', 'washer']   \n",
       "8816     ['Central A/C', 'Forced Air', 'Exterior Brick']   \n",
       "9562   ['Dryer', 'Microwave', 'Refrigerator', 'Washer...   \n",
       "9849   ['Dishwasher', 'Dryer', 'Refrigerator', 'Washe...   \n",
       "10038  ['Dishwasher', 'Dryer', 'Microwave', 'Refriger...   \n",
       "\n",
       "                ...            West Springfield  Westover  Wheaton  \\\n",
       "1209            ...                           0         0        0   \n",
       "8816            ...                           0         0        0   \n",
       "9562            ...                           0         0        0   \n",
       "9849            ...                           0         0        0   \n",
       "10038           ...                           0         0        0   \n",
       "\n",
       "       White Plains  Williamsburg  Woodbine  Woodbridge  Woodmont Triangle  \\\n",
       "1209              0             0         0           0                  0   \n",
       "8816              0             0         0           0                  0   \n",
       "9562              0             0         0           0                  0   \n",
       "9849              0             0         0           0                  0   \n",
       "10038             0             0         0           0                  0   \n",
       "\n",
       "       Yorktown           neighborhoods  \n",
       "1209          0             Forest Glen  \n",
       "8816          0              Germantown  \n",
       "9562          0            Gaithersburg  \n",
       "9849          0              Germantown  \n",
       "10038         0  Downtown Silver Spring  \n",
       "\n",
       "[5 rows x 1677 columns]"
      ]
     },
     "execution_count": 77,
     "metadata": {},
     "output_type": "execute_result"
    }
   ],
   "source": [
    "#From the table below, we can see the same issue with incorrect sqft data as above. \n",
    "#We will also drop these points.\n",
    "df1[(df1['sqft'] > 9000) & (df1['rent_price'] < 2000)]"
   ]
  },
  {
   "cell_type": "code",
   "execution_count": 78,
   "metadata": {},
   "outputs": [],
   "source": [
    "df1 = df1.drop(df1[(df1['sqft'] > 9000) & (df1['rent_price'] < 2000)].index)"
   ]
  },
  {
   "cell_type": "markdown",
   "metadata": {},
   "source": [
    "We should also look at the lower values for sqft to make sure there are nonzero values, and to make sure there are no outliers. For the below values, their sqft does not seem plausible and they do not seem to keep up with the trend in the graphs above. Therefore, we will drop these."
   ]
  },
  {
   "cell_type": "code",
   "execution_count": 79,
   "metadata": {},
   "outputs": [
    {
     "data": {
      "text/html": [
       "<div>\n",
       "<style>\n",
       "    .dataframe thead tr:only-child th {\n",
       "        text-align: right;\n",
       "    }\n",
       "\n",
       "    .dataframe thead th {\n",
       "        text-align: left;\n",
       "    }\n",
       "\n",
       "    .dataframe tbody tr th {\n",
       "        vertical-align: top;\n",
       "    }\n",
       "</style>\n",
       "<table border=\"1\" class=\"dataframe\">\n",
       "  <thead>\n",
       "    <tr style=\"text-align: right;\">\n",
       "      <th></th>\n",
       "      <th>listlinks</th>\n",
       "      <th>title_address</th>\n",
       "      <th>lats</th>\n",
       "      <th>longs</th>\n",
       "      <th>ids</th>\n",
       "      <th>sqft</th>\n",
       "      <th>rent_price</th>\n",
       "      <th>bedrooms</th>\n",
       "      <th>bathrooms</th>\n",
       "      <th>amenities</th>\n",
       "      <th>...</th>\n",
       "      <th>West Springfield</th>\n",
       "      <th>Westover</th>\n",
       "      <th>Wheaton</th>\n",
       "      <th>White Plains</th>\n",
       "      <th>Williamsburg</th>\n",
       "      <th>Woodbine</th>\n",
       "      <th>Woodbridge</th>\n",
       "      <th>Woodmont Triangle</th>\n",
       "      <th>Yorktown</th>\n",
       "      <th>neighborhoods</th>\n",
       "    </tr>\n",
       "  </thead>\n",
       "  <tbody>\n",
       "    <tr>\n",
       "      <th>2060</th>\n",
       "      <td>https://www.renthop.com/apartments/5730-virgin...</td>\n",
       "      <td>5730 Virginia Lane</td>\n",
       "      <td>38.8124</td>\n",
       "      <td>-76.9680</td>\n",
       "      <td>12982901</td>\n",
       "      <td>32.0</td>\n",
       "      <td>2050</td>\n",
       "      <td>3.0</td>\n",
       "      <td>2.5</td>\n",
       "      <td>['dishwasher', 'dryer', 'ac', 'refrigerator', ...</td>\n",
       "      <td>...</td>\n",
       "      <td>0</td>\n",
       "      <td>0</td>\n",
       "      <td>0</td>\n",
       "      <td>0</td>\n",
       "      <td>0</td>\n",
       "      <td>0</td>\n",
       "      <td>0</td>\n",
       "      <td>0</td>\n",
       "      <td>0</td>\n",
       "      <td>Oxon Hill</td>\n",
       "    </tr>\n",
       "    <tr>\n",
       "      <th>3112</th>\n",
       "      <td>https://www.renthop.com/apartments/157-fleet-s...</td>\n",
       "      <td>157 Fleet Street</td>\n",
       "      <td>38.7838</td>\n",
       "      <td>-77.0155</td>\n",
       "      <td>18606485</td>\n",
       "      <td>90.0</td>\n",
       "      <td>2250</td>\n",
       "      <td>2.0</td>\n",
       "      <td>1.0</td>\n",
       "      <td>['Cooktop', 'Dishwasher', 'Dryer', 'Garbage Di...</td>\n",
       "      <td>...</td>\n",
       "      <td>0</td>\n",
       "      <td>0</td>\n",
       "      <td>0</td>\n",
       "      <td>0</td>\n",
       "      <td>0</td>\n",
       "      <td>0</td>\n",
       "      <td>0</td>\n",
       "      <td>0</td>\n",
       "      <td>0</td>\n",
       "      <td>Chesapeake Beach</td>\n",
       "    </tr>\n",
       "    <tr>\n",
       "      <th>7510</th>\n",
       "      <td>https://www.renthop.com/apartments/6517-creek-...</td>\n",
       "      <td>6517 Creek Run Drive</td>\n",
       "      <td>38.8192</td>\n",
       "      <td>-77.4312</td>\n",
       "      <td>12120407</td>\n",
       "      <td>32.0</td>\n",
       "      <td>600</td>\n",
       "      <td>1.0</td>\n",
       "      <td>1.0</td>\n",
       "      <td>['internet', 'playground']</td>\n",
       "      <td>...</td>\n",
       "      <td>0</td>\n",
       "      <td>0</td>\n",
       "      <td>0</td>\n",
       "      <td>0</td>\n",
       "      <td>0</td>\n",
       "      <td>0</td>\n",
       "      <td>0</td>\n",
       "      <td>0</td>\n",
       "      <td>0</td>\n",
       "      <td>Centreville</td>\n",
       "    </tr>\n",
       "    <tr>\n",
       "      <th>9238</th>\n",
       "      <td>https://www.renthop.com/apartments/2754-sweetw...</td>\n",
       "      <td>2754 Sweetwater Court</td>\n",
       "      <td>38.8491</td>\n",
       "      <td>-76.9175</td>\n",
       "      <td>18428806</td>\n",
       "      <td>1.0</td>\n",
       "      <td>1830</td>\n",
       "      <td>3.0</td>\n",
       "      <td>2.5</td>\n",
       "      <td>['New Traditional', 'Heat Pumps', 'Exterior Al...</td>\n",
       "      <td>...</td>\n",
       "      <td>0</td>\n",
       "      <td>0</td>\n",
       "      <td>0</td>\n",
       "      <td>0</td>\n",
       "      <td>0</td>\n",
       "      <td>0</td>\n",
       "      <td>0</td>\n",
       "      <td>0</td>\n",
       "      <td>0</td>\n",
       "      <td>District Heights</td>\n",
       "    </tr>\n",
       "  </tbody>\n",
       "</table>\n",
       "<p>4 rows × 1677 columns</p>\n",
       "</div>"
      ],
      "text/plain": [
       "                                              listlinks  \\\n",
       "2060  https://www.renthop.com/apartments/5730-virgin...   \n",
       "3112  https://www.renthop.com/apartments/157-fleet-s...   \n",
       "7510  https://www.renthop.com/apartments/6517-creek-...   \n",
       "9238  https://www.renthop.com/apartments/2754-sweetw...   \n",
       "\n",
       "              title_address     lats    longs       ids  sqft  rent_price  \\\n",
       "2060     5730 Virginia Lane  38.8124 -76.9680  12982901  32.0        2050   \n",
       "3112       157 Fleet Street  38.7838 -77.0155  18606485  90.0        2250   \n",
       "7510   6517 Creek Run Drive  38.8192 -77.4312  12120407  32.0         600   \n",
       "9238  2754 Sweetwater Court  38.8491 -76.9175  18428806   1.0        1830   \n",
       "\n",
       "      bedrooms  bathrooms                                          amenities  \\\n",
       "2060       3.0        2.5  ['dishwasher', 'dryer', 'ac', 'refrigerator', ...   \n",
       "3112       2.0        1.0  ['Cooktop', 'Dishwasher', 'Dryer', 'Garbage Di...   \n",
       "7510       1.0        1.0                         ['internet', 'playground']   \n",
       "9238       3.0        2.5  ['New Traditional', 'Heat Pumps', 'Exterior Al...   \n",
       "\n",
       "            ...         West Springfield  Westover  Wheaton  White Plains  \\\n",
       "2060        ...                        0         0        0             0   \n",
       "3112        ...                        0         0        0             0   \n",
       "7510        ...                        0         0        0             0   \n",
       "9238        ...                        0         0        0             0   \n",
       "\n",
       "      Williamsburg  Woodbine  Woodbridge  Woodmont Triangle  Yorktown  \\\n",
       "2060             0         0           0                  0         0   \n",
       "3112             0         0           0                  0         0   \n",
       "7510             0         0           0                  0         0   \n",
       "9238             0         0           0                  0         0   \n",
       "\n",
       "         neighborhoods  \n",
       "2060         Oxon Hill  \n",
       "3112  Chesapeake Beach  \n",
       "7510       Centreville  \n",
       "9238  District Heights  \n",
       "\n",
       "[4 rows x 1677 columns]"
      ]
     },
     "execution_count": 79,
     "metadata": {},
     "output_type": "execute_result"
    }
   ],
   "source": [
    "df1[df1['sqft'] < 100] #Check for outliers under 100 sqft"
   ]
  },
  {
   "cell_type": "code",
   "execution_count": 80,
   "metadata": {},
   "outputs": [],
   "source": [
    "df1 = df1.drop(df1[df1['sqft'] < 100].index) #Remove outliers under 100 sqft"
   ]
  },
  {
   "cell_type": "code",
   "execution_count": 81,
   "metadata": {},
   "outputs": [
    {
     "data": {
      "text/plain": [
       "<matplotlib.text.Text at 0x130038d68>"
      ]
     },
     "execution_count": 81,
     "metadata": {},
     "output_type": "execute_result"
    },
    {
     "data": {
      "image/png": "[encoded data removed]",
      "text/plain": [
       "<matplotlib.figure.Figure at 0x1113a0198>"
      ]
     },
     "metadata": {},
     "output_type": "display_data"
    }
   ],
   "source": [
    "#Plot of Price vs Sqft - see positive relationship between price and sqft\n",
    "plt.title('Price vs. Sqft', size='x-large')\n",
    "sns.regplot(df1.sqft, df1.rent_price)\n",
    "plt.xlabel('Sqft')\n",
    "plt.ylabel('Rent Price ($)')"
   ]
  },
  {
   "cell_type": "code",
   "execution_count": null,
   "metadata": {},
   "outputs": [],
   "source": [
    "#Geocoding to get neighborhood for each observation from longitude and latitude\n",
    "\n",
    "hoods = []\n",
    "\n",
    "G = Geocoder('YOUR_API_CODE_HERE')\n",
    "\n",
    "for coor in tqdm(range(len(df))):\n",
    "    add = G.reverse_geocode(df['lats'][coor], df['longs'][coor])\n",
    "    if add.neighborhood == None:\n",
    "        hoods.append(add.locality)\n",
    "    else:\n",
    "        hoods.append(add.neighborhood)\n",
    "    time.sleep(0.5)\n"
   ]
  },
  {
   "cell_type": "code",
   "execution_count": null,
   "metadata": {},
   "outputs": [],
   "source": [
    "df['neighborhoods'] = hoods #add the neighborhoods to df"
   ]
  },
  {
   "cell_type": "code",
   "execution_count": null,
   "metadata": {},
   "outputs": [],
   "source": [
    "dfhoods = df.neighborhoods #create df to save neighborhoods "
   ]
  },
  {
   "cell_type": "code",
   "execution_count": 82,
   "metadata": {},
   "outputs": [],
   "source": [
    "#save neighborhoods to an excel file\n",
    "\n",
    "#from pandas import ExcelWriter\n",
    "#writer = ExcelWriter('DC_Neighborhoods.xlsx')\n",
    "#dfhoods.to_excel(writer)\n",
    "#writer.save()"
   ]
  },
  {
   "cell_type": "code",
   "execution_count": 84,
   "metadata": {},
   "outputs": [],
   "source": [
    "dummies = pd.get_dummies(df1.neighborhoods) # create dummy variables for each neighborhood"
   ]
  },
  {
   "cell_type": "markdown",
   "metadata": {},
   "source": [
    "Create a df to build a linear model for imputing missing sqft values I will use the values for bedrooms bathrooms to predict sqft. First, by removing null entries for sqft and using non-missing data entries to fit a linear regression model and predict on the missing data"
   ]
  },
  {
   "cell_type": "code",
   "execution_count": 85,
   "metadata": {},
   "outputs": [],
   "source": [
    "dfreg = df1[['sqft', 'bedrooms', 'bathrooms']].copy()"
   ]
  },
  {
   "cell_type": "code",
   "execution_count": 86,
   "metadata": {},
   "outputs": [
    {
     "data": {
      "text/html": [
       "<div>\n",
       "<style>\n",
       "    .dataframe thead tr:only-child th {\n",
       "        text-align: right;\n",
       "    }\n",
       "\n",
       "    .dataframe thead th {\n",
       "        text-align: left;\n",
       "    }\n",
       "\n",
       "    .dataframe tbody tr th {\n",
       "        vertical-align: top;\n",
       "    }\n",
       "</style>\n",
       "<table border=\"1\" class=\"dataframe\">\n",
       "  <thead>\n",
       "    <tr style=\"text-align: right;\">\n",
       "      <th></th>\n",
       "      <th>sqft</th>\n",
       "      <th>bedrooms</th>\n",
       "      <th>bathrooms</th>\n",
       "    </tr>\n",
       "  </thead>\n",
       "  <tbody>\n",
       "    <tr>\n",
       "      <th>1</th>\n",
       "      <td>1160.0</td>\n",
       "      <td>3.0</td>\n",
       "      <td>2.0</td>\n",
       "    </tr>\n",
       "    <tr>\n",
       "      <th>2</th>\n",
       "      <td>515.0</td>\n",
       "      <td>1.0</td>\n",
       "      <td>1.5</td>\n",
       "    </tr>\n",
       "    <tr>\n",
       "      <th>3</th>\n",
       "      <td>989.0</td>\n",
       "      <td>3.0</td>\n",
       "      <td>2.5</td>\n",
       "    </tr>\n",
       "    <tr>\n",
       "      <th>4</th>\n",
       "      <td>989.0</td>\n",
       "      <td>2.0</td>\n",
       "      <td>1.5</td>\n",
       "    </tr>\n",
       "    <tr>\n",
       "      <th>5</th>\n",
       "      <td>916.0</td>\n",
       "      <td>1.0</td>\n",
       "      <td>1.5</td>\n",
       "    </tr>\n",
       "  </tbody>\n",
       "</table>\n",
       "</div>"
      ],
      "text/plain": [
       "     sqft  bedrooms  bathrooms\n",
       "1  1160.0       3.0        2.0\n",
       "2   515.0       1.0        1.5\n",
       "3   989.0       3.0        2.5\n",
       "4   989.0       2.0        1.5\n",
       "5   916.0       1.0        1.5"
      ]
     },
     "execution_count": 86,
     "metadata": {},
     "output_type": "execute_result"
    }
   ],
   "source": [
    "dfreg.head()"
   ]
  },
  {
   "cell_type": "code",
   "execution_count": 87,
   "metadata": {},
   "outputs": [],
   "source": [
    "#Get all observations with sqft = NaN\n",
    "null_data = dfreg[dfreg.isnull().any(axis=1)]"
   ]
  },
  {
   "cell_type": "code",
   "execution_count": 88,
   "metadata": {},
   "outputs": [
    {
     "data": {
      "text/html": [
       "<div>\n",
       "<style>\n",
       "    .dataframe thead tr:only-child th {\n",
       "        text-align: right;\n",
       "    }\n",
       "\n",
       "    .dataframe thead th {\n",
       "        text-align: left;\n",
       "    }\n",
       "\n",
       "    .dataframe tbody tr th {\n",
       "        vertical-align: top;\n",
       "    }\n",
       "</style>\n",
       "<table border=\"1\" class=\"dataframe\">\n",
       "  <thead>\n",
       "    <tr style=\"text-align: right;\">\n",
       "      <th></th>\n",
       "      <th>sqft</th>\n",
       "      <th>bedrooms</th>\n",
       "      <th>bathrooms</th>\n",
       "    </tr>\n",
       "  </thead>\n",
       "  <tbody>\n",
       "    <tr>\n",
       "      <th>13</th>\n",
       "      <td>NaN</td>\n",
       "      <td>1.0</td>\n",
       "      <td>1.0</td>\n",
       "    </tr>\n",
       "    <tr>\n",
       "      <th>24</th>\n",
       "      <td>NaN</td>\n",
       "      <td>2.0</td>\n",
       "      <td>1.5</td>\n",
       "    </tr>\n",
       "    <tr>\n",
       "      <th>39</th>\n",
       "      <td>NaN</td>\n",
       "      <td>1.0</td>\n",
       "      <td>1.5</td>\n",
       "    </tr>\n",
       "    <tr>\n",
       "      <th>51</th>\n",
       "      <td>NaN</td>\n",
       "      <td>3.0</td>\n",
       "      <td>2.5</td>\n",
       "    </tr>\n",
       "    <tr>\n",
       "      <th>61</th>\n",
       "      <td>NaN</td>\n",
       "      <td>1.0</td>\n",
       "      <td>1.5</td>\n",
       "    </tr>\n",
       "  </tbody>\n",
       "</table>\n",
       "</div>"
      ],
      "text/plain": [
       "    sqft  bedrooms  bathrooms\n",
       "13   NaN       1.0        1.0\n",
       "24   NaN       2.0        1.5\n",
       "39   NaN       1.0        1.5\n",
       "51   NaN       3.0        2.5\n",
       "61   NaN       1.0        1.5"
      ]
     },
     "execution_count": 88,
     "metadata": {},
     "output_type": "execute_result"
    }
   ],
   "source": [
    "null_data.head()"
   ]
  },
  {
   "cell_type": "code",
   "execution_count": 89,
   "metadata": {},
   "outputs": [],
   "source": [
    "#drops all the NaN values \n",
    "reg_data = dfreg.dropna() "
   ]
  },
  {
   "cell_type": "code",
   "execution_count": 90,
   "metadata": {},
   "outputs": [],
   "source": [
    "from sklearn.linear_model import LinearRegression\n",
    "X = reg_data.drop('sqft', axis = 1)\n",
    "y = reg_data.sqft\n",
    "lm = LinearRegression()"
   ]
  },
  {
   "cell_type": "code",
   "execution_count": 91,
   "metadata": {},
   "outputs": [
    {
     "data": {
      "text/plain": [
       "LinearRegression(copy_X=True, fit_intercept=True, n_jobs=1, normalize=False)"
      ]
     },
     "execution_count": 91,
     "metadata": {},
     "output_type": "execute_result"
    }
   ],
   "source": [
    "lm.fit(X, y)"
   ]
  },
  {
   "cell_type": "code",
   "execution_count": 92,
   "metadata": {},
   "outputs": [
    {
     "data": {
      "text/html": [
       "<div>\n",
       "<style>\n",
       "    .dataframe thead tr:only-child th {\n",
       "        text-align: right;\n",
       "    }\n",
       "\n",
       "    .dataframe thead th {\n",
       "        text-align: left;\n",
       "    }\n",
       "\n",
       "    .dataframe tbody tr th {\n",
       "        vertical-align: top;\n",
       "    }\n",
       "</style>\n",
       "<table border=\"1\" class=\"dataframe\">\n",
       "  <thead>\n",
       "    <tr style=\"text-align: right;\">\n",
       "      <th></th>\n",
       "      <th>features</th>\n",
       "      <th>estimatedCoefficients</th>\n",
       "    </tr>\n",
       "  </thead>\n",
       "  <tbody>\n",
       "    <tr>\n",
       "      <th>0</th>\n",
       "      <td>bedrooms</td>\n",
       "      <td>319.055521</td>\n",
       "    </tr>\n",
       "    <tr>\n",
       "      <th>1</th>\n",
       "      <td>bathrooms</td>\n",
       "      <td>434.602733</td>\n",
       "    </tr>\n",
       "  </tbody>\n",
       "</table>\n",
       "</div>"
      ],
      "text/plain": [
       "    features  estimatedCoefficients\n",
       "0   bedrooms             319.055521\n",
       "1  bathrooms             434.602733"
      ]
     },
     "execution_count": 92,
     "metadata": {},
     "output_type": "execute_result"
    }
   ],
   "source": [
    "#View the coefficient values\n",
    "\n",
    "pd.DataFrame({'features': X.columns, 'estimatedCoefficients': lm.coef_})[['features', 'estimatedCoefficients']]"
   ]
  },
  {
   "cell_type": "code",
   "execution_count": 93,
   "metadata": {},
   "outputs": [],
   "source": [
    "predictions = lm.predict(X) #get predictions for sqft"
   ]
  },
  {
   "cell_type": "code",
   "execution_count": 94,
   "metadata": {},
   "outputs": [
    {
     "data": {
      "text/plain": [
       "<matplotlib.text.Text at 0x130020be0>"
      ]
     },
     "execution_count": 94,
     "metadata": {},
     "output_type": "execute_result"
    },
    {
     "data": {
      "image/png": "[encoded data removed]",
      "text/plain": [
       "<matplotlib.figure.Figure at 0x12c7d72e8>"
      ]
     },
     "metadata": {},
     "output_type": "display_data"
    }
   ],
   "source": [
    "#Plot predictions vs actual values\n",
    "sns.regplot(predictions, reg_data.sqft)\n",
    "plt.xlabel('Predicted Sqft Values')\n",
    "plt.ylabel('Observed Sqft Values')\n",
    "plt.title('SQFT Predictions vs Actual Values', size='x-large')"
   ]
  },
  {
   "cell_type": "code",
   "execution_count": 95,
   "metadata": {},
   "outputs": [
    {
     "name": "stdout",
     "output_type": "stream",
     "text": [
      "R^2: 0.665136256446\n"
     ]
    }
   ],
   "source": [
    "#Fit a model to the training data and predict on the test set\n",
    "\n",
    "from sklearn.model_selection import train_test_split\n",
    "X_train, X_test, y_train, y_test = train_test_split(X, y, test_size = 0.3, random_state=42)\n",
    "lm.fit(X_train,y_train)\n",
    "y_pred = lm.predict(X_test)\n",
    "\n",
    "print(\"R^2:\", lm.score(X_test, y_test))"
   ]
  },
  {
   "cell_type": "code",
   "execution_count": 96,
   "metadata": {},
   "outputs": [
    {
     "name": "stdout",
     "output_type": "stream",
     "text": [
      "[ 0.69405769  0.65482201  0.65086107  0.67109305  0.64874196]\n",
      "Average 5-Fold CV score: 0.663915155966\n"
     ]
    }
   ],
   "source": [
    "#Run cross validation to see how well the model performs\n",
    "\n",
    "from sklearn.model_selection import cross_val_score\n",
    "\n",
    "cv_scores = cross_val_score(lm, X, y, cv=5)\n",
    "\n",
    "print(cv_scores)\n",
    "print(\"Average 5-Fold CV score:\", np.mean(cv_scores))"
   ]
  },
  {
   "cell_type": "code",
   "execution_count": 97,
   "metadata": {},
   "outputs": [],
   "source": [
    "X1 = null_data.iloc[:, 1:3]#get all values to impute \n",
    "realp = lm.predict(X1) #predicted values from missing data"
   ]
  },
  {
   "cell_type": "code",
   "execution_count": 98,
   "metadata": {},
   "outputs": [
    {
     "name": "stderr",
     "output_type": "stream",
     "text": [
      "/Users/TCummings03/anaconda/lib/python3.6/site-packages/ipykernel_launcher.py:1: SettingWithCopyWarning: \n",
      "A value is trying to be set on a copy of a slice from a DataFrame.\n",
      "Try using .loc[row_indexer,col_indexer] = value instead\n",
      "\n",
      "See the caveats in the documentation: http://pandas.pydata.org/pandas-docs/stable/indexing.html#indexing-view-versus-copy\n",
      "  \"\"\"Entry point for launching an IPython kernel.\n"
     ]
    }
   ],
   "source": [
    "null_data['sqft'] = realp #add the predicted sqft to null_data df"
   ]
  },
  {
   "cell_type": "code",
   "execution_count": 99,
   "metadata": {},
   "outputs": [],
   "source": [
    "#fill missing sqft values with predicted values\n",
    "df1['sqft'] = df1['sqft'].fillna(null_data['sqft']) "
   ]
  },
  {
   "cell_type": "code",
   "execution_count": 100,
   "metadata": {},
   "outputs": [
    {
     "data": {
      "text/html": [
       "<div>\n",
       "<style>\n",
       "    .dataframe thead tr:only-child th {\n",
       "        text-align: right;\n",
       "    }\n",
       "\n",
       "    .dataframe thead th {\n",
       "        text-align: left;\n",
       "    }\n",
       "\n",
       "    .dataframe tbody tr th {\n",
       "        vertical-align: top;\n",
       "    }\n",
       "</style>\n",
       "<table border=\"1\" class=\"dataframe\">\n",
       "  <thead>\n",
       "    <tr style=\"text-align: right;\">\n",
       "      <th></th>\n",
       "      <th>listlinks</th>\n",
       "      <th>title_address</th>\n",
       "      <th>lats</th>\n",
       "      <th>longs</th>\n",
       "      <th>ids</th>\n",
       "      <th>sqft</th>\n",
       "      <th>rent_price</th>\n",
       "      <th>bedrooms</th>\n",
       "      <th>bathrooms</th>\n",
       "      <th>amenities</th>\n",
       "      <th>...</th>\n",
       "      <th>West Springfield</th>\n",
       "      <th>Westover</th>\n",
       "      <th>Wheaton</th>\n",
       "      <th>White Plains</th>\n",
       "      <th>Williamsburg</th>\n",
       "      <th>Woodbine</th>\n",
       "      <th>Woodbridge</th>\n",
       "      <th>Woodmont Triangle</th>\n",
       "      <th>Yorktown</th>\n",
       "      <th>neighborhoods</th>\n",
       "    </tr>\n",
       "  </thead>\n",
       "  <tbody>\n",
       "    <tr>\n",
       "      <th>1</th>\n",
       "      <td>https://www.renthop.com/apartments/4905-southl...</td>\n",
       "      <td>4905 Southland Ave</td>\n",
       "      <td>38.8180</td>\n",
       "      <td>-77.1479</td>\n",
       "      <td>2007984</td>\n",
       "      <td>1160.0</td>\n",
       "      <td>1975</td>\n",
       "      <td>3.0</td>\n",
       "      <td>2.0</td>\n",
       "      <td>['Featured', 'Cats Allowed', 'Dogs Allowed', '...</td>\n",
       "      <td>...</td>\n",
       "      <td>0</td>\n",
       "      <td>0</td>\n",
       "      <td>0</td>\n",
       "      <td>0</td>\n",
       "      <td>0</td>\n",
       "      <td>0</td>\n",
       "      <td>0</td>\n",
       "      <td>0</td>\n",
       "      <td>0</td>\n",
       "      <td>Lincolnia</td>\n",
       "    </tr>\n",
       "    <tr>\n",
       "      <th>2</th>\n",
       "      <td>https://www.renthop.com/apartments/9704-clark-...</td>\n",
       "      <td>9704 Clark Pl</td>\n",
       "      <td>38.7434</td>\n",
       "      <td>-77.4669</td>\n",
       "      <td>2059874</td>\n",
       "      <td>515.0</td>\n",
       "      <td>1102</td>\n",
       "      <td>1.0</td>\n",
       "      <td>1.5</td>\n",
       "      <td>['Featured', 'Cats Allowed', 'Dogs Allowed', '...</td>\n",
       "      <td>...</td>\n",
       "      <td>0</td>\n",
       "      <td>0</td>\n",
       "      <td>0</td>\n",
       "      <td>0</td>\n",
       "      <td>0</td>\n",
       "      <td>0</td>\n",
       "      <td>0</td>\n",
       "      <td>0</td>\n",
       "      <td>0</td>\n",
       "      <td>Manassas</td>\n",
       "    </tr>\n",
       "    <tr>\n",
       "      <th>3</th>\n",
       "      <td>https://www.renthop.com/apartments/1002-kenneb...</td>\n",
       "      <td>1002 Kennebec Street</td>\n",
       "      <td>38.8194</td>\n",
       "      <td>-76.9922</td>\n",
       "      <td>3427733</td>\n",
       "      <td>989.0</td>\n",
       "      <td>1529</td>\n",
       "      <td>3.0</td>\n",
       "      <td>2.5</td>\n",
       "      <td>['Featured', 'Cats Allowed', 'Dogs Allowed', '...</td>\n",
       "      <td>...</td>\n",
       "      <td>0</td>\n",
       "      <td>0</td>\n",
       "      <td>0</td>\n",
       "      <td>0</td>\n",
       "      <td>0</td>\n",
       "      <td>0</td>\n",
       "      <td>0</td>\n",
       "      <td>0</td>\n",
       "      <td>0</td>\n",
       "      <td>Oxon Hill</td>\n",
       "    </tr>\n",
       "  </tbody>\n",
       "</table>\n",
       "<p>3 rows × 1677 columns</p>\n",
       "</div>"
      ],
      "text/plain": [
       "                                           listlinks         title_address  \\\n",
       "1  https://www.renthop.com/apartments/4905-southl...    4905 Southland Ave   \n",
       "2  https://www.renthop.com/apartments/9704-clark-...         9704 Clark Pl   \n",
       "3  https://www.renthop.com/apartments/1002-kenneb...  1002 Kennebec Street   \n",
       "\n",
       "      lats    longs      ids    sqft  rent_price  bedrooms  bathrooms  \\\n",
       "1  38.8180 -77.1479  2007984  1160.0        1975       3.0        2.0   \n",
       "2  38.7434 -77.4669  2059874   515.0        1102       1.0        1.5   \n",
       "3  38.8194 -76.9922  3427733   989.0        1529       3.0        2.5   \n",
       "\n",
       "                                           amenities      ...        \\\n",
       "1  ['Featured', 'Cats Allowed', 'Dogs Allowed', '...      ...         \n",
       "2  ['Featured', 'Cats Allowed', 'Dogs Allowed', '...      ...         \n",
       "3  ['Featured', 'Cats Allowed', 'Dogs Allowed', '...      ...         \n",
       "\n",
       "   West Springfield  Westover  Wheaton  White Plains  Williamsburg  Woodbine  \\\n",
       "1                 0         0        0             0             0         0   \n",
       "2                 0         0        0             0             0         0   \n",
       "3                 0         0        0             0             0         0   \n",
       "\n",
       "   Woodbridge  Woodmont Triangle  Yorktown  neighborhoods  \n",
       "1           0                  0         0      Lincolnia  \n",
       "2           0                  0         0       Manassas  \n",
       "3           0                  0         0      Oxon Hill  \n",
       "\n",
       "[3 rows x 1677 columns]"
      ]
     },
     "execution_count": 100,
     "metadata": {},
     "output_type": "execute_result"
    }
   ],
   "source": [
    "df1.head(3) #check to see if missing data was filled"
   ]
  },
  {
   "cell_type": "code",
   "execution_count": 101,
   "metadata": {},
   "outputs": [
    {
     "name": "stdout",
     "output_type": "stream",
     "text": [
      "Median Rent Price: 2100.0\n",
      "Mean Rent Price: 2365.5429759257468\n",
      "RMSE Base Case: 1101.4502853\n"
     ]
    }
   ],
   "source": [
    "#Get a baseline case to compare model against:\n",
    "\n",
    "median_price = df1.rent_price.median()\n",
    "\n",
    "median_sqft = df1.sqft.median()\n",
    "\n",
    "median_p_sqft = median_price/median_sqft\n",
    "\n",
    "baselinep = [median_p_sqft * x for x in df1.sqft]\n",
    "\n",
    "err = df1.sqft - baselinep\n",
    "\n",
    "sq_err = err ** 2\n",
    "\n",
    "mean_sq_err = np.mean(sq_err)\n",
    "\n",
    "root_mse = np.sqrt(mean_sq_err)\n",
    "\n",
    "print('Median Rent Price:', df1.rent_price.median())\n",
    "print('Mean Rent Price:', df1.rent_price.mean())\n",
    "print('RMSE Base Case:', root_mse)"
   ]
  },
  {
   "cell_type": "markdown",
   "metadata": {},
   "source": [
    "The base case is found by taking the median price/ median sqft and multiplying it by each respective listing's sqft. This \"base case\" is a fairly crude way of predicting rent price. However, this is useful as a bench mark to see if using a model will actually be useful in trying to predict rent price.  At a minimum, the model should do better than the RMSE from the base case. "
   ]
  },
  {
   "cell_type": "code",
   "execution_count": 102,
   "metadata": {},
   "outputs": [],
   "source": [
    "#Create a dataframe with the four columns\n",
    "dfo = df1.loc[:,['sqft', 'rent_price', 'bedrooms', 'bathrooms']]"
   ]
  },
  {
   "cell_type": "code",
   "execution_count": 103,
   "metadata": {},
   "outputs": [],
   "source": [
    "#Create the final dataframe that will be used for the model\n",
    "\n",
    "dfmodel = pd.concat([dfo, dummies, dfamenities], axis=1) \n",
    "dfmodel = dfmodel.dropna()"
   ]
  },
  {
   "cell_type": "code",
   "execution_count": 104,
   "metadata": {},
   "outputs": [
    {
     "data": {
      "text/plain": [
       "LinearRegression(copy_X=True, fit_intercept=True, n_jobs=1, normalize=False)"
      ]
     },
     "execution_count": 104,
     "metadata": {},
     "output_type": "execute_result"
    }
   ],
   "source": [
    "#Create a linear regression model to predict price\n",
    "\n",
    "from sklearn.linear_model import LinearRegression\n",
    "X2 = dfmodel.drop(['rent_price'], axis = 1)\n",
    "y2 = df1['rent_price']\n",
    "lm = LinearRegression()\n",
    "\n",
    "lm.fit(X2,y2)"
   ]
  },
  {
   "cell_type": "code",
   "execution_count": 105,
   "metadata": {},
   "outputs": [
    {
     "data": {
      "text/plain": [
       "0.6878368592649593"
      ]
     },
     "execution_count": 105,
     "metadata": {},
     "output_type": "execute_result"
    }
   ],
   "source": [
    "lm.score(X2,y2)"
   ]
  },
  {
   "cell_type": "code",
   "execution_count": 106,
   "metadata": {},
   "outputs": [
    {
     "data": {
      "text/plain": [
       "<matplotlib.axes._subplots.AxesSubplot at 0x12e7471d0>"
      ]
     },
     "execution_count": 106,
     "metadata": {},
     "output_type": "execute_result"
    },
    {
     "data": {
      "image/png": "[encoded data removed]",
      "text/plain": [
       "<matplotlib.figure.Figure at 0x12ee652e8>"
      ]
     },
     "metadata": {},
     "output_type": "display_data"
    }
   ],
   "source": [
    "price_pred = lm.predict(X2)\n",
    "sns.regplot(price_pred, y2)"
   ]
  },
  {
   "cell_type": "code",
   "execution_count": 107,
   "metadata": {},
   "outputs": [
    {
     "name": "stdout",
     "output_type": "stream",
     "text": [
      "Root mse 641.661943993\n",
      "mean rent price: 2365.5429759257468\n",
      "mean error -9.626181826627912e-08\n"
     ]
    },
    {
     "data": {
      "text/plain": [
       "(array([  6.42218449e-01,   2.25693265e-01,   8.45500849e-02,\n",
       "          2.89756650e-02,   8.71533673e-03,   3.96151669e-03,\n",
       "          3.39558574e-03,   9.05489530e-04,   2.26372383e-04,\n",
       "          4.52744765e-04,   4.52744765e-04,   1.13186191e-04,\n",
       "          2.26372383e-04,   1.13186191e-04,   0.00000000e+00,\n",
       "          0.00000000e+00,   0.00000000e+00,   0.00000000e+00]),\n",
       " array([ 1,  2,  3,  4,  5,  6,  7,  8,  9, 10, 11, 12, 13, 14, 15, 16, 17,\n",
       "        18, 19]),\n",
       " <a list of 18 Patch objects>)"
      ]
     },
     "execution_count": 107,
     "metadata": {},
     "output_type": "execute_result"
    },
    {
     "data": {
      "image/png": "[encoded data removed]",
      "text/plain": [
       "<matplotlib.figure.Figure at 0x11dc745f8>"
      ]
     },
     "metadata": {},
     "output_type": "display_data"
    }
   ],
   "source": [
    "#The error term is observed - predicted values\n",
    "error = price_pred - y2\n",
    "squared_error = error ** 2\n",
    "mse = np.mean(squared_error)\n",
    "rmse = np.sqrt(mse)\n",
    "me = np.mean(error)\n",
    "print('Root mse' , rmse)\n",
    "print('mean rent price:', np.mean(df1.rent_price))\n",
    "print('mean error', me)\n",
    "sqftp = df1.rent_price / df1.sqft\n",
    "plt.hist(sqftp, bins=np.arange(1,20,1), normed=True)"
   ]
  },
  {
   "cell_type": "markdown",
   "metadata": {},
   "source": [
    "Fitting a linear model with the data that includes both the 1000+ amenities and 200+ locations proves to be a difficult task for the linear regression model.  With this many features, it may be wise to eliminate some, which may be adding noise to the model. In addition, testing different regression models to see which performs will allow us to pick the best one.  The models we will test are Linear Regression, Random Forest Regression, Elastic Net, and Lasso regression."
   ]
  },
  {
   "cell_type": "code",
   "execution_count": 108,
   "metadata": {},
   "outputs": [],
   "source": [
    "features = dfmodel.drop(['rent_price'], axis = 1)\n",
    "target = df1['rent_price']"
   ]
  },
  {
   "cell_type": "code",
   "execution_count": 109,
   "metadata": {},
   "outputs": [],
   "source": [
    "from sklearn.ensemble import RandomForestRegressor\n",
    "from sklearn.metrics import mean_squared_error   #ytrue, ypred\n",
    "\n",
    "regr = RandomForestRegressor()"
   ]
  },
  {
   "cell_type": "code",
   "execution_count": 110,
   "metadata": {},
   "outputs": [
    {
     "name": "stdout",
     "output_type": "stream",
     "text": [
      "RMSE: 666.258552131\n",
      "Test R^2: 0.667138121214\n",
      "Train R^2: 0.942331147087\n"
     ]
    }
   ],
   "source": [
    "from sklearn.model_selection import train_test_split\n",
    "X_train, X_test, y_train, y_test = train_test_split(features, target, \n",
    "                                                    test_size = 0.3, random_state=42)\n",
    "regr.fit(X_train,y_train)\n",
    "y_pred = regr.predict(X_test)\n",
    "print('RMSE:', np.sqrt(mean_squared_error(y_test, y_pred)))\n",
    "\n",
    "print(\"Test R^2:\", regr.score(X_test, y_test))\n",
    "print(\"Train R^2:\", regr.score(X_train, y_train))"
   ]
  },
  {
   "cell_type": "code",
   "execution_count": 111,
   "metadata": {},
   "outputs": [
    {
     "name": "stdout",
     "output_type": "stream",
     "text": [
      "[ 0.63170346  0.54022134  0.67856216  0.73939447  0.62832693]\n",
      "Average 5-Fold CV score: 0.643641674168\n"
     ]
    }
   ],
   "source": [
    "cv_scores = cross_val_score(regr, features, target, cv=5)\n",
    "\n",
    "print(cv_scores)\n",
    "print(\"Average 5-Fold CV score:\", np.mean(cv_scores))"
   ]
  },
  {
   "cell_type": "code",
   "execution_count": 112,
   "metadata": {},
   "outputs": [
    {
     "name": "stdout",
     "output_type": "stream",
     "text": [
      "RMSE: 690.326467445\n",
      "Test R^2: 0.642655159219\n",
      "Train R^2: 0.691427764911\n",
      "Best Fit Alpha: 1.0\n",
      "[ 0.65749114  0.50932932  0.69538225  0.69660027  0.64576862]\n",
      "Average 5-Fold CV score: 0.64091432257\n"
     ]
    }
   ],
   "source": [
    "from sklearn.linear_model import RidgeCV\n",
    "\n",
    "features = dfmodel.drop(['rent_price'], axis = 1)\n",
    "target = dfmodel['rent_price']\n",
    "RCV = RidgeCV()\n",
    "RCV.fit(features,target)\n",
    "X_train, X_test, y_train, y_test = train_test_split(features,target, \n",
    "                                                    test_size = 0.3, random_state=42)\n",
    "RCV.fit(X_train,y_train)\n",
    "y_pred = RCV.predict(X_test)\n",
    "\n",
    "print('RMSE:', np.sqrt(mean_squared_error(y_test, y_pred)))\n",
    "print(\"Test R^2:\", RCV.score(X_test, y_test))\n",
    "print(\"Train R^2:\", RCV.score(X_train, y_train))\n",
    "\n",
    "print('Best Fit Alpha:', RCV.alpha_)\n",
    "\n",
    "cv_scores = cross_val_score(RCV, features,target, cv=5)\n",
    "\n",
    "print(cv_scores)\n",
    "print(\"Average 5-Fold CV score:\", np.mean(cv_scores))"
   ]
  },
  {
   "cell_type": "code",
   "execution_count": 113,
   "metadata": {},
   "outputs": [
    {
     "name": "stdout",
     "output_type": "stream",
     "text": [
      "RMSE: 720.649545568\n",
      "Test R^2: 0.610572424353\n",
      "Train R^2: 0.639264129319\n",
      "[ 0.5980773   0.51758599  0.6470196   0.65993461  0.61565392]\n",
      "Average 5-Fold CV score: 0.607654284476\n"
     ]
    }
   ],
   "source": [
    "from sklearn.linear_model import ElasticNet\n",
    "\n",
    "enet = ElasticNet(alpha=0.01)\n",
    "enet.fit(features,target)\n",
    "X_train, X_test, y_train, y_test = train_test_split(features,target, test_size = 0.3, random_state=42)\n",
    "enet.fit(X_train,y_train)\n",
    "y_pred = enet.predict(X_test)\n",
    "\n",
    "print('RMSE:', np.sqrt(mean_squared_error(y_test, y_pred)))\n",
    "print(\"Test R^2:\", enet.score(X_test, y_test))\n",
    "print(\"Train R^2:\", enet.score(X_train, y_train))\n",
    "\n",
    "cv_scores = cross_val_score(enet, features,target, cv=5)\n",
    "\n",
    "print(cv_scores)\n",
    "print(\"Average 5-Fold CV score:\", np.mean(cv_scores))"
   ]
  },
  {
   "cell_type": "markdown",
   "metadata": {},
   "source": [
    "Model results:\n",
    "\n",
    "Random Forest Regressor:\n",
    "Not only is the RMSE of the random forest regressor high (666) the difference between the r^2 of the test and training set are very different. This looks like the random forest regressor has overfit the data.\n",
    "\n",
    "Ridge Regression:\n",
    "A RMSE of 738 is not very good considering the median and mean rent price are 2,100 and 2,382 respectively.  In addition to improving upon this, we should also aim to imporve the r^2 of .637.\n",
    "\n",
    "Elastic Net Regression:\n",
    "\n",
    "Like ridge regression, Elastic Net has an RMSE in the 700s, 766.  In addition to a higher RMSE, it also has a lower r^2 at .609. \n",
    "\n",
    "Let's do some further exploration to see how to improve these metrics, and find out which models performs best"
   ]
  },
  {
   "cell_type": "code",
   "execution_count": 114,
   "metadata": {},
   "outputs": [
    {
     "data": {
      "image/png": "[encoded data removed]",
      "text/plain": [
       "<matplotlib.figure.Figure at 0x12f039b38>"
      ]
     },
     "metadata": {},
     "output_type": "display_data"
    }
   ],
   "source": [
    "#From the QQ plot below, we can see pretty quickly that there appear \n",
    "#to be some extreme values in the data. \n",
    "\n",
    "stats.probplot(price_pred, dist=\"norm\", plot=pylab)\n",
    "pylab.show()"
   ]
  },
  {
   "cell_type": "markdown",
   "metadata": {},
   "source": [
    "From the graph above, we will try two approaches to improve our models and/or see which one performs the best:\n",
    "1. Feature Selection:\n",
    "    a) We will do future selection - removing some features that do not appear in at least 1% of observations\n",
    "    b) We will remove observations for neighborhoods with less than 15 reported\n",
    "2. Feature transformation:\n",
    "Due to the extreme values in the plot above, we will take the log of the continuous variables (rent price, sqft, bedrooms)"
   ]
  },
  {
   "cell_type": "code",
   "execution_count": 115,
   "metadata": {},
   "outputs": [],
   "source": [
    "dfamenities1 = dfamenities.copy()\n",
    "dummies1 = dummies.copy()\n",
    "dfo1 = np.log(dfo.copy())"
   ]
  },
  {
   "cell_type": "code",
   "execution_count": 116,
   "metadata": {},
   "outputs": [
    {
     "data": {
      "text/html": [
       "<div>\n",
       "<style>\n",
       "    .dataframe thead tr:only-child th {\n",
       "        text-align: right;\n",
       "    }\n",
       "\n",
       "    .dataframe thead th {\n",
       "        text-align: left;\n",
       "    }\n",
       "\n",
       "    .dataframe tbody tr th {\n",
       "        vertical-align: top;\n",
       "    }\n",
       "</style>\n",
       "<table border=\"1\" class=\"dataframe\">\n",
       "  <thead>\n",
       "    <tr style=\"text-align: right;\">\n",
       "      <th></th>\n",
       "      <th>sqft</th>\n",
       "      <th>rent_price</th>\n",
       "      <th>bedrooms</th>\n",
       "      <th>bathrooms</th>\n",
       "    </tr>\n",
       "  </thead>\n",
       "  <tbody>\n",
       "    <tr>\n",
       "      <th>1</th>\n",
       "      <td>7.056175</td>\n",
       "      <td>7.588324</td>\n",
       "      <td>1.098612</td>\n",
       "      <td>0.693147</td>\n",
       "    </tr>\n",
       "    <tr>\n",
       "      <th>2</th>\n",
       "      <td>6.244167</td>\n",
       "      <td>7.004882</td>\n",
       "      <td>0.000000</td>\n",
       "      <td>0.405465</td>\n",
       "    </tr>\n",
       "    <tr>\n",
       "      <th>3</th>\n",
       "      <td>6.896694</td>\n",
       "      <td>7.332369</td>\n",
       "      <td>1.098612</td>\n",
       "      <td>0.916291</td>\n",
       "    </tr>\n",
       "    <tr>\n",
       "      <th>4</th>\n",
       "      <td>6.896694</td>\n",
       "      <td>7.169350</td>\n",
       "      <td>0.693147</td>\n",
       "      <td>0.405465</td>\n",
       "    </tr>\n",
       "    <tr>\n",
       "      <th>5</th>\n",
       "      <td>6.820016</td>\n",
       "      <td>7.283448</td>\n",
       "      <td>0.000000</td>\n",
       "      <td>0.405465</td>\n",
       "    </tr>\n",
       "  </tbody>\n",
       "</table>\n",
       "</div>"
      ],
      "text/plain": [
       "       sqft  rent_price  bedrooms  bathrooms\n",
       "1  7.056175    7.588324  1.098612   0.693147\n",
       "2  6.244167    7.004882  0.000000   0.405465\n",
       "3  6.896694    7.332369  1.098612   0.916291\n",
       "4  6.896694    7.169350  0.693147   0.405465\n",
       "5  6.820016    7.283448  0.000000   0.405465"
      ]
     },
     "execution_count": 116,
     "metadata": {},
     "output_type": "execute_result"
    }
   ],
   "source": [
    "dfo1.head()"
   ]
  },
  {
   "cell_type": "code",
   "execution_count": 117,
   "metadata": {},
   "outputs": [],
   "source": [
    "#Drops all amenities columns that appear in less than 0.1% of observations\n",
    "\n",
    "columns_to_drop = []\n",
    "\n",
    "for c in dfamenities1.columns:\n",
    "    \n",
    "    c_series = dfamenities1[c] \n",
    "\n",
    "# check the fraction of the most represented value\n",
    "    if c_series.value_counts(normalize=True).max() >= 0.999:\n",
    "        columns_to_drop.append(c)\n",
    "\n",
    "dfamenities1.drop(columns_to_drop, axis=1, inplace=True)\n"
   ]
  },
  {
   "cell_type": "code",
   "execution_count": 118,
   "metadata": {},
   "outputs": [],
   "source": [
    "#Creates the model df\n",
    "\n",
    "dfmodel1 = pd.concat([dfo1, dummies1, dfamenities1], axis=1)\n",
    "dfmodel1 = dfmodel1.dropna()\n",
    "\n",
    "features = dfmodel1.drop(['rent_price'], axis = 1)\n",
    "target = dfo1['rent_price']\n"
   ]
  },
  {
   "cell_type": "code",
   "execution_count": 119,
   "metadata": {},
   "outputs": [],
   "source": [
    "#This drops neighborhoods\n",
    "\n",
    "less_than_10 = []\n",
    "\n",
    "for c in dummies1.columns:\n",
    "    \n",
    "    c_series = dummies1[c] \n",
    "\n",
    "# check to see if value appears less than 15 times\n",
    "    if np.count_nonzero(c_series) < 15:\n",
    "        less_than_10.append(c)\n",
    "\n",
    "dummies1.drop(less_than_10, axis=1, inplace=True)\n"
   ]
  },
  {
   "cell_type": "code",
   "execution_count": 120,
   "metadata": {},
   "outputs": [],
   "source": [
    "#Gets indices from each element of less_than_10\n",
    "\n",
    "indices = []\n",
    "\n",
    "for hood in less_than_10:\n",
    "    indices.append(df1.loc[df1[hood] == 1].index)"
   ]
  },
  {
   "cell_type": "code",
   "execution_count": 121,
   "metadata": {},
   "outputs": [],
   "source": [
    "flat_list = [item for sublist in indices for item in sublist] #delist"
   ]
  },
  {
   "cell_type": "code",
   "execution_count": 122,
   "metadata": {},
   "outputs": [],
   "source": [
    "dfmodel1 = dfmodel1.drop(flat_list)"
   ]
  },
  {
   "cell_type": "code",
   "execution_count": 123,
   "metadata": {},
   "outputs": [
    {
     "name": "stdout",
     "output_type": "stream",
     "text": [
      "RMSE: 3215665319.34\n",
      "Test R^2: -6.75904286682e+19\n",
      "Train R^2: 0.760224855654\n"
     ]
    }
   ],
   "source": [
    "#Linear model\n",
    "\n",
    "#Fit a model to the training data and predict on the test set\n",
    "#From below, we can see that the model does well on the training data\n",
    "#but breaks down on the test data \n",
    "\n",
    "from sklearn.model_selection import train_test_split\n",
    "\n",
    "X_train, X_test, y_train, y_test = train_test_split(features, target, \n",
    "                                                    test_size = 0.3, random_state=42)\n",
    "\n",
    "lm.fit(X_train,y_train)\n",
    "y_pred = lm.predict(X_test)\n",
    "\n",
    "print('RMSE:', np.sqrt(mean_squared_error(y_test, y_pred)))\n",
    "print(\"Test R^2:\", lm.score(X_test, y_test))\n",
    "print(\"Train R^2:\", lm.score(X_train, y_train))"
   ]
  },
  {
   "cell_type": "code",
   "execution_count": 124,
   "metadata": {},
   "outputs": [
    {
     "name": "stdout",
     "output_type": "stream",
     "text": [
      "[ 7.996171    6.87922478  7.28110981  7.05756283  7.25714302]\n",
      "1    7.588324\n",
      "2    7.004882\n",
      "3    7.332369\n",
      "4    7.169350\n",
      "5    7.283448\n",
      "Name: rent_price, dtype: float64\n",
      "Root mse 3215665319.34\n",
      "mean rent price: 2365.5429759257468\n",
      "mean error -43995159.012150295\n",
      "Average price of test set: 7.687537546222118\n"
     ]
    },
    {
     "data": {
      "text/plain": [
       "(array([ 1.,  0.,  0.,  0.,  0.,  0.,  0.,  0.,  0.,  0.,  0.,  0.,  0.,\n",
       "         0.,  0.,  0.,  0.,  0.]),\n",
       " array([ 1,  2,  3,  4,  5,  6,  7,  8,  9, 10, 11, 12, 13, 14, 15, 16, 17,\n",
       "        18, 19]),\n",
       " <a list of 18 Patch objects>)"
      ]
     },
     "execution_count": 124,
     "metadata": {},
     "output_type": "execute_result"
    },
    {
     "data": {
      "image/png": "[encoded data removed]",
      "text/plain": [
       "<matplotlib.figure.Figure at 0x12cd0e400>"
      ]
     },
     "metadata": {},
     "output_type": "display_data"
    }
   ],
   "source": [
    "price_pred = lm.predict(features)\n",
    "error = y_test - y_pred\n",
    "squared_error = error ** 2\n",
    "mse = np.mean(squared_error)\n",
    "rmse = np.sqrt(mse)\n",
    "me = np.mean(error)\n",
    "print(price_pred[:5])\n",
    "print(target[:5])\n",
    "#print('error:', error)\n",
    "print('Root mse' , rmse)\n",
    "print('mean rent price:', np.mean(df1.rent_price))\n",
    "print('mean error', me)\n",
    "print('Average price of test set:', np.mean(y_test))\n",
    "sqftp = dfo1.rent_price / dfo1.sqft\n",
    "plt.hist(sqftp, bins=np.arange(1,20,1), normed=True)"
   ]
  },
  {
   "cell_type": "code",
   "execution_count": 125,
   "metadata": {},
   "outputs": [
    {
     "name": "stdout",
     "output_type": "stream",
     "text": [
      "Mean log price 7.684879565112164\n",
      "Median log price 7.649692623711514\n",
      "RMSE: 0.203606334124\n",
      "Test R^2: 0.732756273503\n",
      "Train R^2: 0.756220570193\n",
      "1.0\n",
      "CV Scores: [ 0.70811625  0.53402195  0.77400852  0.7776713   0.75765026]\n",
      "Average 5-Fold CV score: 0.710293657523\n"
     ]
    }
   ],
   "source": [
    "from sklearn.linear_model import RidgeCV\n",
    "\n",
    "features = dfmodel1.drop(['rent_price'], axis = 1)\n",
    "target = dfmodel1['rent_price']\n",
    "RCV = RidgeCV(alphas=[1.0])\n",
    "RCV.fit(features,target)\n",
    "X_train, X_test, y_train, y_test = train_test_split(features,target, \n",
    "                                                    test_size = 0.3, random_state=42)\n",
    "RCV.fit(X_train,y_train)\n",
    "y_pred = RCV.predict(X_test)\n",
    "\n",
    "print('Mean log price', target.mean())\n",
    "print('Median log price', target.median())\n",
    "print('RMSE:', np.sqrt(mean_squared_error(y_test, y_pred)))\n",
    "print(\"Test R^2:\", RCV.score(X_test, y_test))\n",
    "print(\"Train R^2:\", RCV.score(X_train, y_train))\n",
    "\n",
    "print(RCV.alpha_)\n",
    "\n",
    "cv_scores = cross_val_score(RCV, features,target, cv=5)\n",
    "\n",
    "print('CV Scores:', cv_scores)\n",
    "print(\"Average 5-Fold CV score:\", np.mean(cv_scores))"
   ]
  },
  {
   "cell_type": "code",
   "execution_count": 126,
   "metadata": {},
   "outputs": [
    {
     "name": "stdout",
     "output_type": "stream",
     "text": [
      "RMSE: 0.351245158278\n",
      "Test R^2: 0.204673153144\n",
      "Train R^2: 0.204480013547\n",
      "[ 0.16800549  0.20771378  0.21644136  0.19896913  0.19969165]\n",
      "Average 5-Fold CV score: 0.198164282817\n"
     ]
    }
   ],
   "source": [
    "from sklearn.linear_model import ElasticNet\n",
    "\n",
    "enet = ElasticNet(l1_ratio=0.01)\n",
    "enet.fit(features,target)\n",
    "X_train, X_test, y_train, y_test = train_test_split(features,target, \n",
    "                                                    test_size = 0.3, random_state=42)\n",
    "enet.fit(X_train,y_train)\n",
    "y_pred = enet.predict(X_test)\n",
    "\n",
    "print('RMSE:', np.sqrt(mean_squared_error(y_test, y_pred)))\n",
    "print(\"Test R^2:\", enet.score(X_test, y_test))\n",
    "print(\"Train R^2:\", enet.score(X_train, y_train))\n",
    "\n",
    "cv_scores = cross_val_score(enet, features,target, cv=5)\n",
    "\n",
    "print(cv_scores)\n",
    "print(\"Average 5-Fold CV score:\", np.mean(cv_scores))"
   ]
  },
  {
   "cell_type": "code",
   "execution_count": 134,
   "metadata": {},
   "outputs": [],
   "source": [
    "# The coefficients\n",
    "cofs = pd.DataFrame({'features': features.columns, 'estimatedCoefficients': RCV.coef_})[['features', 'estimatedCoefficients']]"
   ]
  },
  {
   "cell_type": "code",
   "execution_count": 148,
   "metadata": {},
   "outputs": [
    {
     "data": {
      "text/html": [
       "<div>\n",
       "<style>\n",
       "    .dataframe thead tr:only-child th {\n",
       "        text-align: right;\n",
       "    }\n",
       "\n",
       "    .dataframe thead th {\n",
       "        text-align: left;\n",
       "    }\n",
       "\n",
       "    .dataframe tbody tr th {\n",
       "        vertical-align: top;\n",
       "    }\n",
       "</style>\n",
       "<table border=\"1\" class=\"dataframe\">\n",
       "  <thead>\n",
       "    <tr style=\"text-align: right;\">\n",
       "      <th></th>\n",
       "      <th>features</th>\n",
       "      <th>estimatedCoefficients</th>\n",
       "    </tr>\n",
       "  </thead>\n",
       "  <tbody>\n",
       "    <tr>\n",
       "      <th>76</th>\n",
       "      <td>Downtown</td>\n",
       "      <td>0.488699</td>\n",
       "    </tr>\n",
       "    <tr>\n",
       "      <th>169</th>\n",
       "      <td>Northwest Washington</td>\n",
       "      <td>0.436177</td>\n",
       "    </tr>\n",
       "    <tr>\n",
       "      <th>144</th>\n",
       "      <td>Lyon Village</td>\n",
       "      <td>0.433512</td>\n",
       "    </tr>\n",
       "    <tr>\n",
       "      <th>166</th>\n",
       "      <td>North Rosslyn</td>\n",
       "      <td>0.399506</td>\n",
       "    </tr>\n",
       "    <tr>\n",
       "      <th>64</th>\n",
       "      <td>Court House</td>\n",
       "      <td>0.395800</td>\n",
       "    </tr>\n",
       "    <tr>\n",
       "      <th>20</th>\n",
       "      <td>Aurora Highlands</td>\n",
       "      <td>0.379157</td>\n",
       "    </tr>\n",
       "    <tr>\n",
       "      <th>230</th>\n",
       "      <td>Tysons</td>\n",
       "      <td>0.371944</td>\n",
       "    </tr>\n",
       "    <tr>\n",
       "      <th>175</th>\n",
       "      <td>Old Town</td>\n",
       "      <td>0.320081</td>\n",
       "    </tr>\n",
       "    <tr>\n",
       "      <th>177</th>\n",
       "      <td>Old Town West</td>\n",
       "      <td>0.311624</td>\n",
       "    </tr>\n",
       "    <tr>\n",
       "      <th>53</th>\n",
       "      <td>Chevy Chase</td>\n",
       "      <td>0.311621</td>\n",
       "    </tr>\n",
       "  </tbody>\n",
       "</table>\n",
       "</div>"
      ],
      "text/plain": [
       "                 features  estimatedCoefficients\n",
       "76               Downtown               0.488699\n",
       "169  Northwest Washington               0.436177\n",
       "144          Lyon Village               0.433512\n",
       "166         North Rosslyn               0.399506\n",
       "64            Court House               0.395800\n",
       "20       Aurora Highlands               0.379157\n",
       "230                Tysons               0.371944\n",
       "175              Old Town               0.320081\n",
       "177         Old Town West               0.311624\n",
       "53            Chevy Chase               0.311621"
      ]
     },
     "execution_count": 148,
     "metadata": {},
     "output_type": "execute_result"
    }
   ],
   "source": [
    "#Top10\n",
    "cofs.sort_values(by='estimatedCoefficients', ascending=False).iloc[:10,:]"
   ]
  },
  {
   "cell_type": "code",
   "execution_count": 149,
   "metadata": {},
   "outputs": [
    {
     "data": {
      "text/html": [
       "<div>\n",
       "<style>\n",
       "    .dataframe thead tr:only-child th {\n",
       "        text-align: right;\n",
       "    }\n",
       "\n",
       "    .dataframe thead th {\n",
       "        text-align: left;\n",
       "    }\n",
       "\n",
       "    .dataframe tbody tr th {\n",
       "        vertical-align: top;\n",
       "    }\n",
       "</style>\n",
       "<table border=\"1\" class=\"dataframe\">\n",
       "  <thead>\n",
       "    <tr style=\"text-align: right;\">\n",
       "      <th></th>\n",
       "      <th>features</th>\n",
       "      <th>estimatedCoefficients</th>\n",
       "    </tr>\n",
       "  </thead>\n",
       "  <tbody>\n",
       "    <tr>\n",
       "      <th>96</th>\n",
       "      <td>Fredericksburg</td>\n",
       "      <td>-0.396204</td>\n",
       "    </tr>\n",
       "    <tr>\n",
       "      <th>219</th>\n",
       "      <td>Stafford</td>\n",
       "      <td>-0.343588</td>\n",
       "    </tr>\n",
       "    <tr>\n",
       "      <th>79</th>\n",
       "      <td>Dumfries</td>\n",
       "      <td>-0.295470</td>\n",
       "    </tr>\n",
       "    <tr>\n",
       "      <th>195</th>\n",
       "      <td>Prince Frederick</td>\n",
       "      <td>-0.293312</td>\n",
       "    </tr>\n",
       "    <tr>\n",
       "      <th>153</th>\n",
       "      <td>Montclair</td>\n",
       "      <td>-0.279973</td>\n",
       "    </tr>\n",
       "    <tr>\n",
       "      <th>97</th>\n",
       "      <td>Gainesville</td>\n",
       "      <td>-0.269134</td>\n",
       "    </tr>\n",
       "    <tr>\n",
       "      <th>229</th>\n",
       "      <td>Triangle</td>\n",
       "      <td>-0.255075</td>\n",
       "    </tr>\n",
       "    <tr>\n",
       "      <th>146</th>\n",
       "      <td>Manassas</td>\n",
       "      <td>-0.254669</td>\n",
       "    </tr>\n",
       "    <tr>\n",
       "      <th>122</th>\n",
       "      <td>Indian Head</td>\n",
       "      <td>-0.245377</td>\n",
       "    </tr>\n",
       "    <tr>\n",
       "      <th>249</th>\n",
       "      <td>Woodbridge</td>\n",
       "      <td>-0.243756</td>\n",
       "    </tr>\n",
       "  </tbody>\n",
       "</table>\n",
       "</div>"
      ],
      "text/plain": [
       "             features  estimatedCoefficients\n",
       "96     Fredericksburg              -0.396204\n",
       "219          Stafford              -0.343588\n",
       "79           Dumfries              -0.295470\n",
       "195  Prince Frederick              -0.293312\n",
       "153         Montclair              -0.279973\n",
       "97        Gainesville              -0.269134\n",
       "229          Triangle              -0.255075\n",
       "146          Manassas              -0.254669\n",
       "122       Indian Head              -0.245377\n",
       "249        Woodbridge              -0.243756"
      ]
     },
     "execution_count": 149,
     "metadata": {},
     "output_type": "execute_result"
    }
   ],
   "source": [
    "#Bottom10\n",
    "cofs.sort_values(by='estimatedCoefficients', ascending=True).iloc[:10,:]"
   ]
  },
  {
   "cell_type": "markdown",
   "metadata": {},
   "source": [
    "As we can see from above, the linear model and elastic net model do not perform as well as the RidgeCV model , with 1.0 alpha. Our metric here is the RMSE which is as follows:\n",
    "\n",
    "Final Scores:\n",
    "--\n",
    "\n",
    "RMSE Linear Regression: (3215665319.34)\n",
    "\n",
    "RMSE RidgeCV: 0.203606334124\n",
    "\n",
    "RMSE ElasticNet: 0.351245158278\n",
    "\n",
    "Because of the above scores, we can determine that the best model for predicting rental prices in DC, with the given set of features, is the RidgeCV model.  Furthermore, it is interesting to note that if we were to go by r^2 values, then the ElasticNet model would actually perform better. However, our for our particular clients, renters and businesses, price accuracy is probably the most important output of a model.  Renters need to know how much they should be paying for rent so they do not overpay, and businesses need to make sure they are not undercharging their renters and leaving money on the table.  "
   ]
  }
 ],
 "metadata": {
  "kernelspec": {
   "display_name": "Python 3",
   "language": "python",
   "name": "python3"
  },
  "language_info": {
   "codemirror_mode": {
    "name": "ipython",
    "version": 3
   },
   "file_extension": ".py",
   "mimetype": "text/x-python",
   "name": "python",
   "nbconvert_exporter": "python",
   "pygments_lexer": "ipython3",
   "version": "3.6.1"
  }
 },
 "nbformat": 4,
 "nbformat_minor": 2
}
